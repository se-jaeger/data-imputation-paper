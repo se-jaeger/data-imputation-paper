{
 "cells": [
  {
   "cell_type": "code",
   "execution_count": 1,
   "metadata": {},
   "outputs": [],
   "source": [
    "from jenga.tasks.shoes import ShoeCategorizationTask\n",
    "from jenga.corruptions.image import GaussianNoiseCorruption, MotionBlurCorruption, FogCorruption, BrightnessCorruption\n",
    "\n",
    "from jenga.evaluation.corruption_impact import CorruptionImpactEvaluator\n",
    "\n",
    "import matplotlib.pyplot as plt\n",
    "\n",
    "import imgaug.augmenters as iaa"
   ]
  },
  {
   "cell_type": "markdown",
   "metadata": {},
   "source": [
    "### Instantiate the shoe categorization task and train a baseline model"
   ]
  },
  {
   "cell_type": "code",
   "execution_count": 2,
   "metadata": {},
   "outputs": [
    {
     "name": "stdout",
     "output_type": "stream",
     "text": [
      "375/375 [==============================] - 10s 26ms/step - loss: 0.2182 - accuracy: 0.9105\n"
     ]
    }
   ],
   "source": [
    "task = ShoeCategorizationTask(seed=42)\n",
    "\n",
    "baseline_model = task.fit_baseline_model()"
   ]
  },
  {
   "cell_type": "markdown",
   "metadata": {},
   "source": [
    "### Train another model on data augmented with gaussian noise corruptions "
   ]
  },
  {
   "cell_type": "code",
   "execution_count": 3,
   "metadata": {},
   "outputs": [
    {
     "name": "stdout",
     "output_type": "stream",
     "text": [
      "750/750 [==============================] - 21s 27ms/step - loss: 0.2237 - accuracy: 0.9095\n"
     ]
    }
   ],
   "source": [
    "import numpy as np\n",
    "\n",
    "augmented_data = [task.train_data]\n",
    "augmented_labels= [task.train_labels]\n",
    "\n",
    "for severity in range(1, 6):\n",
    "    indexes = np.random.choice(range(0, len(task.train_data)), 2400)\n",
    "    sample = task.train_data[indexes, :, :].copy()\n",
    "    corrupted_sample = GaussianNoiseCorruption(fraction=1.0, severity=severity).transform(sample)\n",
    "    augmented_data.append(corrupted_sample)\n",
    "    augmented_labels.append(task.train_labels[indexes].copy())\n",
    "\n",
    "gaussian_noise_model = task.fit_baseline_model(np.concatenate(augmented_data), np.concatenate(augmented_labels))"
   ]
  },
  {
   "cell_type": "markdown",
   "metadata": {},
   "source": [
    "### Evaluate how well both models can handle corrupted test data"
   ]
  },
  {
   "cell_type": "code",
   "execution_count": 4,
   "metadata": {},
   "outputs": [
    {
     "name": "stdout",
     "output_type": "stream",
     "text": [
      "0/70 (1.7151489999999967)\n",
      "10/70 (18.760072000000008)\n",
      "20/70 (37.013206999999994)\n",
      "30/70 (56.835477999999995)\n",
      "40/70 (80.037444)\n",
      "50/70 (111.41870599999999)\n",
      "60/70 (146.90315499999997)\n",
      "0/70 (2.0016560000000254)\n",
      "10/70 (22.10497300000003)\n",
      "20/70 (43.601815999999985)\n",
      "30/70 (64.60847000000001)\n",
      "40/70 (87.89462200000003)\n",
      "50/70 (113.21726799999999)\n",
      "60/70 (141.13453299999998)\n"
     ]
    }
   ],
   "source": [
    "evaluator = CorruptionImpactEvaluator(task)\n",
    "\n",
    "corruptions  = []\n",
    "for fraction in [0.01, 0.05, 0.1, 0.25, 0.5, 0.75, 0.99]:\n",
    "    corruptions.append(GaussianNoiseCorruption(fraction=fraction, severity=4))\n",
    "    \n",
    "gaussian_noise_results = evaluator.evaluate(baseline_model, 10, *corruptions)        \n",
    "gaussian_noise_results_aug = evaluator.evaluate(gaussian_noise_model, 10, *corruptions)    "
   ]
  },
  {
   "cell_type": "markdown",
   "metadata": {},
   "source": [
    "### Train another model on data augmented with motion blur corruptions "
   ]
  },
  {
   "cell_type": "code",
   "execution_count": 5,
   "metadata": {},
   "outputs": [
    {
     "name": "stdout",
     "output_type": "stream",
     "text": [
      "750/750 [==============================] - 14s 18ms/step - loss: 0.2386 - accuracy: 0.9002\n"
     ]
    }
   ],
   "source": [
    "import numpy as np\n",
    "\n",
    "augmented_data = [task.train_data]\n",
    "augmented_labels= [task.train_labels]\n",
    "\n",
    "for severity in range(1, 6):\n",
    "    indexes = np.random.choice(range(0, len(task.train_data)), 2400)\n",
    "    sample = task.train_data[indexes, :, :].copy()\n",
    "    corrupted_sample = MotionBlurCorruption(fraction=1.0, severity=severity).transform(sample)\n",
    "    augmented_data.append(corrupted_sample)\n",
    "    augmented_labels.append(task.train_labels[indexes].copy())\n",
    "\n",
    "motion_blur_model = task.fit_baseline_model(np.concatenate(augmented_data), np.concatenate(augmented_labels))"
   ]
  },
  {
   "cell_type": "markdown",
   "metadata": {},
   "source": [
    "### Evaluate how well both models can handle corrupted test data"
   ]
  },
  {
   "cell_type": "code",
   "execution_count": 6,
   "metadata": {},
   "outputs": [
    {
     "name": "stdout",
     "output_type": "stream",
     "text": [
      "0/70 (2.025310999999988)\n",
      "10/70 (22.65146500000003)\n",
      "20/70 (45.90273500000001)\n",
      "30/70 (72.29806099999996)\n",
      "40/70 (104.37101099999995)\n",
      "50/70 (146.48615499999994)\n",
      "60/70 (197.90038800000002)\n",
      "0/70 (2.0925270000000182)\n",
      "10/70 (23.87525800000003)\n",
      "20/70 (47.606025000000045)\n",
      "30/70 (74.47148800000002)\n",
      "40/70 (107.74847399999999)\n",
      "50/70 (150.84968400000002)\n",
      "60/70 (203.68719600000009)\n"
     ]
    }
   ],
   "source": [
    "evaluator = CorruptionImpactEvaluator(task)\n",
    "\n",
    "corruptions  = []\n",
    "for fraction in [0.01, 0.05, 0.1, 0.25, 0.5, 0.75, 0.99]:\n",
    "    corruptions.append(MotionBlurCorruption(fraction=fraction, severity=4))\n",
    "    \n",
    "motion_blur_results = evaluator.evaluate(baseline_model, 10, *corruptions)        \n",
    "motion_blur_results_aug = evaluator.evaluate(motion_blur_model, 10, *corruptions)    "
   ]
  },
  {
   "cell_type": "markdown",
   "metadata": {},
   "source": [
    "### Train another model on data augmented with fog corruptions "
   ]
  },
  {
   "cell_type": "code",
   "execution_count": 7,
   "metadata": {},
   "outputs": [
    {
     "name": "stdout",
     "output_type": "stream",
     "text": [
      "750/750 [==============================] - 14s 18ms/step - loss: 0.2890 - accuracy: 0.8778\n"
     ]
    }
   ],
   "source": [
    "import numpy as np\n",
    "\n",
    "augmented_data = [task.train_data]\n",
    "augmented_labels= [task.train_labels]\n",
    "\n",
    "for severity in range(1, 6):\n",
    "    indexes = np.random.choice(range(0, len(task.train_data)), 2400)\n",
    "    sample = task.train_data[indexes, :, :].copy()\n",
    "    corrupted_sample = FogCorruption(fraction=1.0, severity=severity).transform(sample)\n",
    "    augmented_data.append(corrupted_sample)\n",
    "    augmented_labels.append(task.train_labels[indexes].copy())\n",
    "\n",
    "fog_model = task.fit_baseline_model(np.concatenate(augmented_data), np.concatenate(augmented_labels))"
   ]
  },
  {
   "cell_type": "markdown",
   "metadata": {},
   "source": [
    "### Evaluate how well both models can handle corrupted test data"
   ]
  },
  {
   "cell_type": "code",
   "execution_count": 8,
   "metadata": {},
   "outputs": [
    {
     "name": "stdout",
     "output_type": "stream",
     "text": [
      "0/70 (2.200454000000036)\n",
      "10/70 (23.294930999999906)\n",
      "20/70 (45.408676000000014)\n",
      "30/70 (69.36430100000007)\n",
      "40/70 (96.90667899999994)\n",
      "50/70 (130.59639399999992)\n",
      "60/70 (169.89467100000002)\n",
      "0/70 (2.0020600000000286)\n",
      "10/70 (23.09771899999987)\n",
      "20/70 (45.07968499999993)\n",
      "30/70 (68.29194099999995)\n",
      "40/70 (95.75581699999998)\n",
      "50/70 (128.69689500000004)\n",
      "60/70 (167.956999)\n"
     ]
    }
   ],
   "source": [
    "evaluator = CorruptionImpactEvaluator(task)\n",
    "\n",
    "corruptions  = []\n",
    "for fraction in [0.01, 0.05, 0.1, 0.25, 0.5, 0.75, 0.99]:\n",
    "    corruptions.append(FogCorruption(fraction=fraction, severity=4))\n",
    "    \n",
    "fog_results = evaluator.evaluate(baseline_model, 10, *corruptions)        \n",
    "fog_results_aug = evaluator.evaluate(fog_model, 10, *corruptions)   "
   ]
  },
  {
   "cell_type": "markdown",
   "metadata": {},
   "source": [
    "### Plot the results"
   ]
  },
  {
   "cell_type": "code",
   "execution_count": 9,
   "metadata": {},
   "outputs": [
    {
     "data": {
      "image/png": "[encoded data removed]",
      "text/plain": [
       "<Figure size 504x360 with 1 Axes>"
      ]
     },
     "metadata": {
      "needs_background": "light"
     },
     "output_type": "display_data"
    }
   ],
   "source": [
    "def as_series(results):\n",
    "    medians = []\n",
    "    for result in results:\n",
    "        medians.append(np.median(result.corrupted_scores))\n",
    "    return medians\n",
    "\n",
    "ax = plt.gca()        \n",
    "\n",
    "fractions = [0.01, 0.05, 0.1, 0.25, 0.5, 0.75, 0.99]\n",
    "markersize=6\n",
    "\n",
    "l = ax.axhline(gaussian_noise_results[0].baseline_score, linestyle='--', color='black')    \n",
    "\n",
    "plt.plot(fractions, as_series(gaussian_noise_results_aug), color='#dc6082', linestyle='dotted', marker='^', markersize=markersize, fillstyle='none')\n",
    "plt.plot(fractions, as_series(gaussian_noise_results), color='#dc6082', marker='o', markersize=markersize)\n",
    "\n",
    "plt.plot(fractions, as_series(motion_blur_results_aug), color='#1e4052', linestyle='dotted', marker='^', markersize=markersize, fillstyle='none')\n",
    "plt.plot(fractions, as_series(motion_blur_results), color='#1e4052', marker='o', markersize=markersize)\n",
    "\n",
    "plt.plot(fractions, as_series(fog_results_aug), color='#e1a677', linestyle='dotted', marker='^', markersize=markersize, fillstyle='none')\n",
    "plt.plot(fractions, as_series(fog_results), color='#e1a677', marker='o', markersize=markersize)\n",
    "\n",
    "\n",
    "ax.set_ylim((0.9, 0.999))\n",
    "ax.tick_params(axis='both', which='major', labelsize=22)\n",
    "ax.tick_params(axis='both', which='minor', labelsize=22)    \n",
    "ax.set_ylabel('AUC', fontsize=24)\n",
    "ax.set_xlabel('fraction', fontsize=24)\n",
    "    \n",
    "ax.legend(['clean', 'noise (aug)', 'noise', 'motion (aug)', 'motion', 'fog (aug)', 'fog'], fontsize=12)    \n",
    "    \n",
    "plt.tight_layout()\n",
    "plt.gcf().set_size_inches(7, 5)\n",
    "\n",
    "plt.show()"
   ]
  }
 ],
 "metadata": {
  "kernelspec": {
   "display_name": "Python 3",
   "language": "python",
   "name": "python3"
  },
  "language_info": {
   "codemirror_mode": {
    "name": "ipython",
    "version": 3
   },
   "file_extension": ".py",
   "mimetype": "text/x-python",
   "name": "python",
   "nbconvert_exporter": "python",
   "pygments_lexer": "ipython3",
   "version": "3.7.9"
  }
 },
 "nbformat": 4,
 "nbformat_minor": 4
}

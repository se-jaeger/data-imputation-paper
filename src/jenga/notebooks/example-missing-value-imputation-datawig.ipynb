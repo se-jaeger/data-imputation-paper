{
 "cells": [
  {
   "cell_type": "markdown",
   "metadata": {},
   "source": [
    "# Disclaimer\n",
    "\n",
    "Because [datawig](https://github.com/awslabs/datawig) produces many dependency issues this notebook currently does not work!"
   ]
  },
  {
   "cell_type": "code",
   "execution_count": 1,
   "metadata": {},
   "outputs": [
    {
     "ename": "ModuleNotFoundError",
     "evalue": "No module named 'datawig'",
     "output_type": "error",
     "traceback": [
      "\u001b[0;31m---------------------------------------------------------------------------\u001b[0m",
      "\u001b[0;31mModuleNotFoundError\u001b[0m                       Traceback (most recent call last)",
      "\u001b[0;32m<ipython-input-1-fe6ec1e5c8be>\u001b[0m in \u001b[0;36m<module>\u001b[0;34m\u001b[0m\n\u001b[1;32m      5\u001b[0m \u001b[0;34m\u001b[0m\u001b[0m\n\u001b[1;32m      6\u001b[0m \u001b[0;32mimport\u001b[0m \u001b[0mnumpy\u001b[0m \u001b[0;32mas\u001b[0m \u001b[0mnp\u001b[0m\u001b[0;34m\u001b[0m\u001b[0;34m\u001b[0m\u001b[0m\n\u001b[0;32m----> 7\u001b[0;31m \u001b[0;32mimport\u001b[0m \u001b[0mdatawig\u001b[0m\u001b[0;34m\u001b[0m\u001b[0;34m\u001b[0m\u001b[0m\n\u001b[0m",
      "\u001b[0;31mModuleNotFoundError\u001b[0m: No module named 'datawig'"
     ]
    }
   ],
   "source": [
    "from jenga.tasks.income import IncomeEstimationTask\n",
    "from jenga.corruptions.generic import MissingValues\n",
    "from jenga.evaluation.corruption_impact import CorruptionImpactEvaluator\n",
    "import matplotlib.pyplot as plt\n",
    "\n",
    "import numpy as np\n",
    "import datawig "
   ]
  },
  {
   "cell_type": "markdown",
   "metadata": {},
   "source": [
    "### Instantiate the income estimation task, make it ignore incomplete records for model training"
   ]
  },
  {
   "cell_type": "code",
   "execution_count": null,
   "metadata": {},
   "outputs": [],
   "source": [
    "task = IncomeEstimationTask(seed=42, ignore_incomplete_records_for_training=True)"
   ]
  },
  {
   "cell_type": "markdown",
   "metadata": {},
   "source": [
    "### A missing value imputer which imputes the most frequent value per column"
   ]
  },
  {
   "cell_type": "code",
   "execution_count": null,
   "metadata": {},
   "outputs": [],
   "source": [
    "class ModeImputer:\n",
    "    def __init__(self, columns):\n",
    "        self.columns = columns\n",
    "        self.modes = {}\n",
    "        \n",
    "    def fit(self, data):\n",
    "        for column in self.columns:\n",
    "            mode = data[column].value_counts().index[0]\n",
    "            self.modes[column] = mode\n",
    "            \n",
    "    def transform(self, data):\n",
    "        imputed = data.copy(deep=True)\n",
    "        for column in self.columns:\n",
    "            imputed[column].fillna(self.modes[column], inplace=True) \n",
    "        return imputed\n",
    "            \n",
    "imputer = ModeImputer(['education', 'workclass', 'marital_status', 'occupation'])\n",
    "imputer.fit(task.train_data)"
   ]
  },
  {
   "cell_type": "markdown",
   "metadata": {},
   "source": [
    "### A missing value which learns an imputation model via the datawig library"
   ]
  },
  {
   "cell_type": "code",
   "execution_count": null,
   "metadata": {},
   "outputs": [],
   "source": [
    "class DatawigImputer:\n",
    "    def __init__(self, input_columns, target_column):\n",
    "        self.input_columns = input_columns\n",
    "        self.target_column = target_column\n",
    "        self.model = None\n",
    "        \n",
    "    def fit(self, data):\n",
    "        self.model = datawig.SimpleImputer(\n",
    "            input_columns=self.input_columns,\n",
    "            output_column=self.target_column,\n",
    "            output_path = f'imputer_model_{self.target_column}',\n",
    "            is_explainable=False).fit(data)\n",
    "        self.model = self.model.load(f'imputer_model_{self.target_column}')\n",
    "            \n",
    "    def transform(self, data):\n",
    "        imputed = data\n",
    "        imputed = self.model.predict(imputed, inplace=True)\n",
    "        imputed.loc[imputed[self.target_column].isnull(), self.target_column] = \\\n",
    "            imputed[self.target_column + '_imputed']\n",
    "        \n",
    "        return imputed"
   ]
  },
  {
   "cell_type": "markdown",
   "metadata": {},
   "source": [
    "### We train imputation models for each column of interest"
   ]
  },
  {
   "cell_type": "code",
   "execution_count": null,
   "metadata": {},
   "outputs": [],
   "source": [
    "education_imputer = DatawigImputer(['occupation', 'marital_status', 'workclass'], 'education')\n",
    "education_imputer.fit(task.train_data)"
   ]
  },
  {
   "cell_type": "code",
   "execution_count": null,
   "metadata": {},
   "outputs": [],
   "source": [
    "occupation_imputer = DatawigImputer(['education', 'marital_status', 'workclass'], 'occupation')\n",
    "occupation_imputer.fit(task.train_data)"
   ]
  },
  {
   "cell_type": "code",
   "execution_count": null,
   "metadata": {},
   "outputs": [],
   "source": [
    "marital_status_imputer = DatawigImputer(['education', 'occupation', 'workclass'], 'marital_status')\n",
    "marital_status_imputer.fit(task.train_data)"
   ]
  },
  {
   "cell_type": "code",
   "execution_count": null,
   "metadata": {},
   "outputs": [],
   "source": [
    "workclass_imputer = DatawigImputer(['education', 'occupation', 'marital_status'], 'workclass')\n",
    "workclass_imputer.fit(task.train_data)"
   ]
  },
  {
   "cell_type": "markdown",
   "metadata": {},
   "source": [
    "### Some glue code (decorators) to be able to apply the imputers in our task"
   ]
  },
  {
   "cell_type": "code",
   "execution_count": null,
   "metadata": {},
   "outputs": [],
   "source": [
    "class ChainedModelDecorator:\n",
    "    def __init__(self, model, imputers):\n",
    "        self.model = model\n",
    "        self.imputers = imputers\n",
    "        \n",
    "    def predict_proba(self, data):\n",
    "        imputed = data\n",
    "        for imputer in self.imputers:\n",
    "            imputed = imputer.transform(imputed)\n",
    "        \n",
    "        return self.model.predict_proba(imputed)"
   ]
  },
  {
   "cell_type": "code",
   "execution_count": null,
   "metadata": {},
   "outputs": [],
   "source": [
    "class ModelDecorator:\n",
    "    def __init__(self, model, imputer):\n",
    "        self.model = model\n",
    "        self.imputer = imputer\n",
    "        \n",
    "    def predict_proba(self, data):\n",
    "        return self.model.predict_proba(self.imputer.transform(data))"
   ]
  },
  {
   "cell_type": "markdown",
   "metadata": {},
   "source": [
    "### We generate the data corruptions to evaluate: missing values of different kinds and strengths for the columns of interest"
   ]
  },
  {
   "cell_type": "code",
   "execution_count": null,
   "metadata": {},
   "outputs": [],
   "source": [
    "evaluator = CorruptionImpactEvaluator(task)\n",
    "\n",
    "corruptions = []\n",
    "for impacted_column in ['education', 'workclass', 'marital_status', 'occupation']:\n",
    "    for fraction in [0.99, 0.5, 0.25, 0.1, 0.01]:\n",
    "        for missingness in ['MCAR', 'MAR', 'MNAR']:\n",
    "            corruption = MissingValues(impacted_column, fraction, missingness=missingness, na_value=np.nan)\n",
    "            corruptions.append(corruption)"
   ]
  },
  {
   "cell_type": "markdown",
   "metadata": {},
   "source": [
    "### Train the baseline model"
   ]
  },
  {
   "cell_type": "code",
   "execution_count": null,
   "metadata": {},
   "outputs": [],
   "source": [
    "model = task.fit_baseline_model()"
   ]
  },
  {
   "cell_type": "markdown",
   "metadata": {},
   "source": [
    "### We create two additional models, one that uses the datawig imputers and another one that uses the  mode imputer"
   ]
  },
  {
   "cell_type": "code",
   "execution_count": null,
   "metadata": {},
   "outputs": [],
   "source": [
    "datawig_model = ChainedModelDecorator(model, [education_imputer, workclass_imputer, marital_status_imputer, occupation_imputer])\n",
    "mode_model = ModelDecorator(model, imputer)"
   ]
  },
  {
   "cell_type": "markdown",
   "metadata": {},
   "source": [
    "### Evaluate the impact of the corruptions on the baseline model and the model with mode imputation"
   ]
  },
  {
   "cell_type": "code",
   "execution_count": null,
   "metadata": {},
   "outputs": [],
   "source": [
    "results = evaluator.evaluate(model, 10, *corruptions)\n",
    "decorated_results = evaluator.evaluate(mode_model, 10, *corruptions)"
   ]
  },
  {
   "cell_type": "markdown",
   "metadata": {},
   "source": [
    "### Evaluate the impact of the corruptions on the model with datawig imputation"
   ]
  },
  {
   "cell_type": "code",
   "execution_count": null,
   "metadata": {},
   "outputs": [],
   "source": [
    "datawig_results = evaluator.evaluate(datawig_model, 10, *corruptions)"
   ]
  },
  {
   "cell_type": "markdown",
   "metadata": {},
   "source": [
    "### Code to plot the results"
   ]
  },
  {
   "cell_type": "code",
   "execution_count": null,
   "metadata": {},
   "outputs": [],
   "source": [
    "def find_result(column, fraction, missingness, results):\n",
    "    for result in results:\n",
    "        corr = result.corruption\n",
    "        if corr.column == column and corr.fraction == fraction and corr.sampling == missingness:\n",
    "            return result"
   ]
  },
  {
   "cell_type": "code",
   "execution_count": null,
   "metadata": {},
   "outputs": [],
   "source": [
    "def plot_impact(column, plt, results, suffix=''):\n",
    "    ax = plt.gca()\n",
    "    \n",
    "    scores = []\n",
    "    labels = []\n",
    "\n",
    "    for impacted_column in [column]:\n",
    "        for fraction in [0.01, 0.1, 0.5, 0.99]:  \n",
    "            for missingness in ['MNAR', 'MAR', 'MCAR']:                    \n",
    "                result = find_result(impacted_column, fraction, missingness, results)\n",
    "                scores.append(result.corrupted_scores)\n",
    "                labels.append(f\"{missingness} {int(fraction*100)}%\")\n",
    "\n",
    "    baseline_score = result.baseline_score            \n",
    "\n",
    "    ax.axhline(baseline_score, linestyle='--', color='red')\n",
    "    bplot = ax.boxplot(scores, showfliers=False, patch_artist=True, medianprops={'color':'black'})\n",
    "\n",
    "    colors = [\n",
    "        '#1e4052', '#dc6082', '#e1a677',\n",
    "        '#1e4052', '#dc6082', '#e1a677', \n",
    "        '#1e4052', '#dc6082', '#e1a677', \n",
    "        '#1e4052', '#dc6082', '#e1a677'\n",
    "    ]\n",
    "    \n",
    "    for patch, color in zip(bplot['boxes'], colors):\n",
    "        patch.set_facecolor(color)\n",
    "        \n",
    "    ax.yaxis.grid(True)\n",
    "    ax.set_xticklabels(labels)\n",
    "    \n",
    "    for tick in ax.get_xticklabels():\n",
    "        tick.set_rotation(90)\n",
    "    \n",
    "    ax.set_ylim((0.79, 0.895))\n",
    "    ax.set_title(f\"Missing values in '{column}'\", fontsize=24)\n",
    "    ax.tick_params(axis='both', which='major', labelsize=22)\n",
    "    ax.tick_params(axis='both', which='minor', labelsize=22)    \n",
    "    ax.set_ylabel('AUC', fontsize=24)\n",
    "    \n",
    "    plt.gcf().set_size_inches(8, 6)\n",
    "    plt.tight_layout()\n",
    "    plt.show()"
   ]
  },
  {
   "cell_type": "code",
   "execution_count": null,
   "metadata": {},
   "outputs": [],
   "source": [
    "plot_impact('education', plt, results)"
   ]
  },
  {
   "cell_type": "code",
   "execution_count": null,
   "metadata": {},
   "outputs": [],
   "source": [
    "plot_impact('education', plt, decorated_results, '-mode')"
   ]
  },
  {
   "cell_type": "code",
   "execution_count": null,
   "metadata": {},
   "outputs": [],
   "source": [
    "plot_impact('education', plt, datawig_results, '-datawig')"
   ]
  },
  {
   "cell_type": "code",
   "execution_count": null,
   "metadata": {},
   "outputs": [],
   "source": [
    "plot_impact('workclass', plt, results)"
   ]
  },
  {
   "cell_type": "code",
   "execution_count": null,
   "metadata": {},
   "outputs": [],
   "source": [
    "plot_impact('workclass', plt, decorated_results, '-mode')"
   ]
  },
  {
   "cell_type": "code",
   "execution_count": null,
   "metadata": {},
   "outputs": [],
   "source": [
    "plot_impact('workclass', plt, datawig_results, '-datawig')"
   ]
  },
  {
   "cell_type": "code",
   "execution_count": null,
   "metadata": {},
   "outputs": [],
   "source": [
    "plot_impact('marital_status', plt, results)"
   ]
  },
  {
   "cell_type": "code",
   "execution_count": null,
   "metadata": {},
   "outputs": [],
   "source": [
    "plot_impact('marital_status', plt, decorated_results, '-mode')"
   ]
  },
  {
   "cell_type": "code",
   "execution_count": null,
   "metadata": {},
   "outputs": [],
   "source": [
    "plot_impact('marital_status', plt, datawig_results, '-datawig')"
   ]
  },
  {
   "cell_type": "code",
   "execution_count": null,
   "metadata": {},
   "outputs": [],
   "source": [
    "plot_impact('occupation', plt, results)"
   ]
  },
  {
   "cell_type": "code",
   "execution_count": null,
   "metadata": {},
   "outputs": [],
   "source": [
    "plot_impact('occupation', plt, decorated_results, '-mode')"
   ]
  },
  {
   "cell_type": "code",
   "execution_count": null,
   "metadata": {},
   "outputs": [],
   "source": [
    "plot_impact('occupation', plt, datawig_results, '-datawig')"
   ]
  },
  {
   "cell_type": "markdown",
   "metadata": {},
   "source": [
    "### Save the results for later analysis"
   ]
  },
  {
   "cell_type": "code",
   "execution_count": null,
   "metadata": {},
   "outputs": [],
   "source": [
    "import jsonpickle\n",
    "\n",
    "with open(\"../data/raw/datawig-results.jsonpickle\", \"w\") as text_file:\n",
    "    text_file.write(jsonpickle.encode(datawig_results))  \n",
    "    \n",
    "with open(\"../data/raw/mode-results.jsonpickle\", \"w\") as text_file:\n",
    "    text_file.write(jsonpickle.encode(decorated_results))    \n",
    "    \n",
    "with open(\"../data/raw/no-results.jsonpickle\", \"w\") as text_file:\n",
    "    text_file.write(jsonpickle.encode(results))        "
   ]
  }
 ],
 "metadata": {
  "kernelspec": {
   "display_name": "Python 3",
   "language": "python",
   "name": "python3"
  },
  "language_info": {
   "codemirror_mode": {
    "name": "ipython",
    "version": 3
   },
   "file_extension": ".py",
   "mimetype": "text/x-python",
   "name": "python",
   "nbconvert_exporter": "python",
   "pygments_lexer": "ipython3",
   "version": "3.7.9"
  }
 },
 "nbformat": 4,
 "nbformat_minor": 4
}

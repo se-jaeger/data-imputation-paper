{
 "cells": [
  {
   "cell_type": "code",
   "execution_count": 1,
   "id": "funded-wales",
   "metadata": {},
   "outputs": [],
   "source": [
    "from jenga.tasks.openml import OpenMLRegressionTask, OpenMLBinaryClassificationTask, OpenMLMultiClassClassificationTask\n",
    "from jenga.corruptions.generic import MissingValues\n",
    "from jenga.evaluation.corruption_impact import CorruptionImpactEvaluator\n",
    "\n",
    "import numpy as np"
   ]
  },
  {
   "cell_type": "markdown",
   "id": "severe-israeli",
   "metadata": {},
   "source": [
    "## Some Helper Functions"
   ]
  },
  {
   "cell_type": "code",
   "execution_count": 2,
   "id": "worldwide-smile",
   "metadata": {},
   "outputs": [],
   "source": [
    "num_repetitions = 10\n",
    "\n",
    "def print_result(results, metric):\n",
    "    print(f\"\"\"\n",
    "Score ({metric}) on \n",
    "  clean data:     {results[0].baseline_score}\n",
    "  corrupted data: {np.mean(results[0].corrupted_scores)}\n",
    "\"\"\"\n",
    "    )"
   ]
  },
  {
   "cell_type": "markdown",
   "id": "opponent-telling",
   "metadata": {},
   "source": [
    "## Binary Classification"
   ]
  },
  {
   "cell_type": "code",
   "execution_count": 3,
   "id": "enabling-cache",
   "metadata": {},
   "outputs": [],
   "source": [
    "binary_task = OpenMLBinaryClassificationTask(1471)"
   ]
  },
  {
   "cell_type": "markdown",
   "id": "incomplete-correction",
   "metadata": {},
   "source": [
    "The baseline model is internally fitted on the tasks train data."
   ]
  },
  {
   "cell_type": "code",
   "execution_count": 4,
   "id": "choice-relation",
   "metadata": {},
   "outputs": [
    {
     "name": "stdout",
     "output_type": "stream",
     "text": [
      "Baseline ROC/AUC score: 0.6780965688306888\n"
     ]
    }
   ],
   "source": [
    "binary_task_model = binary_task.fit_baseline_model()\n",
    "\n",
    "print(f\"Baseline ROC/AUC score: {binary_task.get_baseline_performance()}\")"
   ]
  },
  {
   "cell_type": "markdown",
   "id": "systematic-evidence",
   "metadata": {},
   "source": [
    "Insert some corruptions and measure their impact."
   ]
  },
  {
   "cell_type": "code",
   "execution_count": 5,
   "id": "smooth-protein",
   "metadata": {},
   "outputs": [
    {
     "name": "stdout",
     "output_type": "stream",
     "text": [
      "0/10 (0.04876700000000067)\n"
     ]
    }
   ],
   "source": [
    "binary_task_evaluator = CorruptionImpactEvaluator(binary_task)\n",
    "\n",
    "binary_task_corruption = MissingValues(column='V3', fraction=0.5, na_value=np.nan)\n",
    "binary_task_results = binary_task_evaluator.evaluate(binary_task_model, num_repetitions, binary_task_corruption)"
   ]
  },
  {
   "cell_type": "code",
   "execution_count": 6,
   "id": "thirty-motor",
   "metadata": {},
   "outputs": [
    {
     "name": "stdout",
     "output_type": "stream",
     "text": [
      "\n",
      "Score (ROC/AUC) on \n",
      "  clean data:     0.6780965688306888\n",
      "  corrupted data: 0.5438625243872014\n",
      "\n"
     ]
    }
   ],
   "source": [
    "print_result(binary_task_results, \"ROC/AUC\")"
   ]
  },
  {
   "cell_type": "code",
   "execution_count": null,
   "id": "legendary-optics",
   "metadata": {},
   "outputs": [],
   "source": []
  },
  {
   "cell_type": "markdown",
   "id": "productive-comedy",
   "metadata": {},
   "source": [
    "## Mutli-Class Classification"
   ]
  },
  {
   "cell_type": "code",
   "execution_count": 7,
   "id": "secret-depth",
   "metadata": {},
   "outputs": [],
   "source": [
    "multi_class_task = OpenMLMultiClassClassificationTask(26)"
   ]
  },
  {
   "cell_type": "markdown",
   "id": "conventional-driving",
   "metadata": {},
   "source": [
    "The baseline model is internally fitted on the tasks train data."
   ]
  },
  {
   "cell_type": "code",
   "execution_count": 8,
   "id": "conditional-boating",
   "metadata": {},
   "outputs": [
    {
     "name": "stderr",
     "output_type": "stream",
     "text": [
      "/usr/local/Caskroom/miniconda/base/envs/jenga/lib/python3.7/site-packages/sklearn/model_selection/_split.py:667: UserWarning: The least populated class in y has only 1 members, which is less than n_splits=5.\n",
      "  % (min_groups, self.n_splits)), UserWarning)\n"
     ]
    },
    {
     "name": "stdout",
     "output_type": "stream",
     "text": [
      "Baseline F1 score: 0.7057940908591204\n"
     ]
    }
   ],
   "source": [
    "multi_class_task_model = multi_class_task.fit_baseline_model()\n",
    "\n",
    "print(f\"Baseline F1 score: {multi_class_task.get_baseline_performance()}\")"
   ]
  },
  {
   "cell_type": "markdown",
   "id": "controlling-complexity",
   "metadata": {},
   "source": [
    "Insert some corruptions and measure their impact."
   ]
  },
  {
   "cell_type": "code",
   "execution_count": 9,
   "id": "vocational-maria",
   "metadata": {},
   "outputs": [
    {
     "name": "stdout",
     "output_type": "stream",
     "text": [
      "0/10 (0.019590000000000884)\n"
     ]
    }
   ],
   "source": [
    "multi_class_task_evaluator = CorruptionImpactEvaluator(multi_class_task)\n",
    "\n",
    "multi_class_task_corruption = MissingValues(column='parents', fraction=0.4, na_value=np.nan)\n",
    "multi_class_task_results = multi_class_task_evaluator.evaluate(multi_class_task_model, num_repetitions, multi_class_task_corruption)"
   ]
  },
  {
   "cell_type": "code",
   "execution_count": 10,
   "id": "demographic-morris",
   "metadata": {},
   "outputs": [
    {
     "name": "stdout",
     "output_type": "stream",
     "text": [
      "\n",
      "Score (F1) on \n",
      "  clean data:     0.7057940908591204\n",
      "  corrupted data: 0.6428736678274072\n",
      "\n"
     ]
    }
   ],
   "source": [
    "print_result(multi_class_task_results, \"F1\")"
   ]
  },
  {
   "cell_type": "code",
   "execution_count": null,
   "id": "physical-velvet",
   "metadata": {},
   "outputs": [],
   "source": []
  },
  {
   "cell_type": "markdown",
   "id": "friendly-choice",
   "metadata": {},
   "source": [
    "## Regression"
   ]
  },
  {
   "cell_type": "code",
   "execution_count": 11,
   "id": "environmental-convenience",
   "metadata": {},
   "outputs": [],
   "source": [
    "regression = OpenMLRegressionTask(42545)"
   ]
  },
  {
   "cell_type": "markdown",
   "id": "characteristic-boards",
   "metadata": {},
   "source": [
    "The baseline model is internally fitted on the tasks train data."
   ]
  },
  {
   "cell_type": "code",
   "execution_count": 12,
   "id": "narrative-vinyl",
   "metadata": {},
   "outputs": [
    {
     "name": "stdout",
     "output_type": "stream",
     "text": [
      "Baseline MSE score: 792.8979896308545\n"
     ]
    }
   ],
   "source": [
    "regression_model = regression.fit_baseline_model()\n",
    "\n",
    "print(f\"Baseline MSE score: {regression.get_baseline_performance()}\")"
   ]
  },
  {
   "cell_type": "markdown",
   "id": "alpine-energy",
   "metadata": {},
   "source": [
    "Insert some corruptions and measure their impact."
   ]
  },
  {
   "cell_type": "code",
   "execution_count": 13,
   "id": "automated-edition",
   "metadata": {},
   "outputs": [
    {
     "name": "stdout",
     "output_type": "stream",
     "text": [
      "0/10 (0.00590200000000074)\n"
     ]
    }
   ],
   "source": [
    "regression_evaluator = CorruptionImpactEvaluator(regression)\n",
    "\n",
    "regression_corruption = MissingValues(column='Material', fraction=0.3, na_value=np.nan)\n",
    "regression_results = regression_evaluator.evaluate(regression_model, num_repetitions, regression_corruption)"
   ]
  },
  {
   "cell_type": "code",
   "execution_count": 14,
   "id": "residential-encoding",
   "metadata": {},
   "outputs": [
    {
     "name": "stdout",
     "output_type": "stream",
     "text": [
      "\n",
      "Score (MSE) on \n",
      "  clean data:     792.8979896308545\n",
      "  corrupted data: 4425.886506130142\n",
      "\n"
     ]
    }
   ],
   "source": [
    "print_result(regression_results, \"MSE\")"
   ]
  },
  {
   "cell_type": "code",
   "execution_count": null,
   "id": "rising-glass",
   "metadata": {},
   "outputs": [],
   "source": []
  }
 ],
 "metadata": {
  "kernelspec": {
   "display_name": "Python 3",
   "language": "python",
   "name": "python3"
  },
  "language_info": {
   "codemirror_mode": {
    "name": "ipython",
    "version": 3
   },
   "file_extension": ".py",
   "mimetype": "text/x-python",
   "name": "python",
   "nbconvert_exporter": "python",
   "pygments_lexer": "ipython3",
   "version": "3.7.9"
  }
 },
 "nbformat": 4,
 "nbformat_minor": 5
}

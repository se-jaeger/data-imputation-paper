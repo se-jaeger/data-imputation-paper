{
 "cells": [
  {
   "cell_type": "code",
   "execution_count": 1,
   "metadata": {},
   "outputs": [],
   "source": [
    "from jenga.tasks.openml import OpenMLBinaryClassificationTask, OpenMLMultiClassClassificationTask\n",
    "from jenga.corruptions.generic import MissingValues\n",
    "    \n",
    "import pandas as pd\n",
    "import numpy as np\n",
    "\n",
    "from data_imputation_paper.imputation.generative import VAEImputer\n",
    "from data_imputation_paper.evaluation import Evaluator\n",
    "\n",
    "%load_ext autoreload\n",
    "%autoreload 2"
   ]
  },
  {
   "cell_type": "markdown",
   "metadata": {},
   "source": [
    "## Make Deterministic"
   ]
  },
  {
   "cell_type": "code",
   "execution_count": 2,
   "metadata": {},
   "outputs": [],
   "source": [
    "seed = 42"
   ]
  },
  {
   "cell_type": "markdown",
   "metadata": {},
   "source": [
    "## Create example tasks"
   ]
  },
  {
   "cell_type": "code",
   "execution_count": 3,
   "metadata": {},
   "outputs": [],
   "source": [
    "task = OpenMLMultiClassClassificationTask(openml_id=4552, seed=seed)"
   ]
  },
  {
   "cell_type": "markdown",
   "metadata": {},
   "source": [
    "## Insert missing values using jenga"
   ]
  },
  {
   "cell_type": "code",
   "execution_count": 4,
   "metadata": {},
   "outputs": [],
   "source": [
    "missing_values = [\n",
    "    MissingValues(column='V2', fraction=0.5, na_value=np.nan, missingness='MCAR'),\n",
    "    MissingValues(column='V4', fraction=0.5, na_value=np.nan, missingness='MCAR'),\n",
    "    MissingValues(column='V15', fraction=0.5, na_value=np.nan, missingness='MCAR')\n",
    "]"
   ]
  },
  {
   "cell_type": "markdown",
   "metadata": {},
   "source": [
    "## VAE imputation"
   ]
  },
  {
   "cell_type": "code",
   "execution_count": 5,
   "metadata": {},
   "outputs": [
    {
     "name": "stdout",
     "output_type": "stream",
     "text": [
      "Evaluation result contains 3 target columns: V2, V4, V15\n",
      "All are in a round-robin fashion imputed and performances are as follows:\n",
      "\n",
      "Target Column: V2\n",
      "            train         test\n",
      "MAE     34.490946    34.349771\n",
      "MSE   2128.888811  2131.283890\n",
      "RMSE    45.966730    45.969173\n",
      "\n",
      "Target Column: V4\n",
      "                train      test\n",
      "F1_micro     0.826346  0.838339\n",
      "F1_macro     0.452458  0.456016\n",
      "F1_weighted  0.747776  0.764647\n",
      "\n",
      "Target Column: V15\n",
      "                train      test\n",
      "F1_micro     0.062665  0.063604\n",
      "F1_macro     0.023002  0.022782\n",
      "F1_weighted  0.026904  0.030857\n",
      "\n",
      "CPU times: user 2min 12s, sys: 30.9 s, total: 2min 42s\n",
      "Wall time: 1min 1s\n"
     ]
    }
   ],
   "source": [
    "arguments = {\n",
    "    \"seed\": seed,\n",
    "    \"hyperparameter_grid\": {\n",
    "        \"training\": {\n",
    "            \"batch_size\": [64, 256],\n",
    "            \"epochs\": [5, 15]\n",
    "        }\n",
    "    }\n",
    "}\n",
    "\n",
    "%time Evaluator(task, missing_values, VAEImputer, arguments).evaluate(2).report()"
   ]
  },
  {
   "cell_type": "code",
   "execution_count": null,
   "metadata": {},
   "outputs": [],
   "source": []
  }
 ],
 "metadata": {
  "kernelspec": {
   "display_name": "Python 3",
   "language": "python",
   "name": "python3"
  },
  "language_info": {
   "codemirror_mode": {
    "name": "ipython",
    "version": 3
   },
   "file_extension": ".py",
   "mimetype": "text/x-python",
   "name": "python",
   "nbconvert_exporter": "python",
   "pygments_lexer": "ipython3",
   "version": "3.8.8"
  }
 },
 "nbformat": 4,
 "nbformat_minor": 4
}

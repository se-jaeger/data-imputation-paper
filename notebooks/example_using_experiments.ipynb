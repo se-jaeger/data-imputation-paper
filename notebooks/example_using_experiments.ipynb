{
 "cells": [
  {
   "cell_type": "code",
   "execution_count": 1,
   "id": "developed-therapist",
   "metadata": {},
   "outputs": [],
   "source": [
    "from data_imputation_paper.experiment import Experiment, Evaluator\n",
    "from data_imputation_paper.imputation.simple import ModeImputer\n",
    "from data_imputation_paper.imputation.ml import KNNImputer, ForestImputer\n",
    "from jenga.tasks.openml import OpenMLMultiClassClassificationTask"
   ]
  },
  {
   "cell_type": "code",
   "execution_count": 2,
   "id": "sufficient-hydrogen",
   "metadata": {},
   "outputs": [],
   "source": [
    "task_id_class_tuples = [\n",
    "    (4552, OpenMLMultiClassClassificationTask),\n",
    "    (1459, OpenMLMultiClassClassificationTask)\n",
    "]\n",
    "\n",
    "experiment = Experiment(\n",
    "    task_id_class_tuples=task_id_class_tuples,\n",
    "    missing_fractions=[0.2, 0.5],\n",
    "    missing_types=[\"MCAR\", \"MNAR\", \"MAR\"],\n",
    "    imputer_class=ModeImputer,\n",
    "    imputer_arguments={},\n",
    "    num_repetitions=2,\n",
    "    base_path=\"../data/experiments\"\n",
    ")"
   ]
  },
  {
   "cell_type": "code",
   "execution_count": 3,
   "id": "assumed-sacramento",
   "metadata": {},
   "outputs": [
    {
     "name": "stdout",
     "output_type": "stream",
     "text": [
      "[2021-02-22 15:02:04,896 - experiment.py:88   - INFO    - run            ]: Experiment Finished! - Results are at: ../data/experiments/2021-02-22_15:01\n",
      "CPU times: user 26 s, sys: 241 ms, total: 26.2 s\n",
      "Wall time: 30.7 s\n"
     ]
    }
   ],
   "source": [
    "%time experiment.run()"
   ]
  },
  {
   "cell_type": "code",
   "execution_count": null,
   "id": "diagnostic-cursor",
   "metadata": {},
   "outputs": [],
   "source": []
  },
  {
   "cell_type": "code",
   "execution_count": 4,
   "id": "demanding-earth",
   "metadata": {},
   "outputs": [],
   "source": [
    "task_id_class_tuples = [\n",
    "    (4552, OpenMLMultiClassClassificationTask),\n",
    "    (1459, OpenMLMultiClassClassificationTask)\n",
    "]\n",
    "\n",
    "experiment = Experiment(\n",
    "    task_id_class_tuples=task_id_class_tuples,\n",
    "    missing_fractions=[0.2, 0.5],\n",
    "    missing_types=[\"MCAR\", \"MNAR\", \"MAR\"],\n",
    "    imputer_class=KNNImputer,\n",
    "    imputer_arguments={\n",
    "        \"hyperparameter_grid_categorical_imputer\": {\n",
    "            \"n_neighbors\": [3, 5]\n",
    "        },\n",
    "        \"hyperparameter_grid_numerical_imputer\": {\n",
    "            \"n_neighbors\": [3, 5]\n",
    "        }\n",
    "    },\n",
    "    num_repetitions=2,\n",
    "    base_path=\"../data/experiments\"\n",
    ")"
   ]
  },
  {
   "cell_type": "code",
   "execution_count": 5,
   "id": "expressed-suite",
   "metadata": {},
   "outputs": [
    {
     "name": "stderr",
     "output_type": "stream",
     "text": [
      "/usr/local/Caskroom/miniconda/base/envs/data-imputation-paper/lib/python3.7/site-packages/sklearn/model_selection/_split.py:668: UserWarning: The least populated class in y has only 1 members, which is less than n_splits=5.\n",
      "  % (min_groups, self.n_splits)), UserWarning)\n",
      "/usr/local/Caskroom/miniconda/base/envs/data-imputation-paper/lib/python3.7/site-packages/sklearn/model_selection/_split.py:668: UserWarning: The least populated class in y has only 1 members, which is less than n_splits=5.\n",
      "  % (min_groups, self.n_splits)), UserWarning)\n",
      "/usr/local/Caskroom/miniconda/base/envs/data-imputation-paper/lib/python3.7/site-packages/sklearn/model_selection/_split.py:668: UserWarning: The least populated class in y has only 1 members, which is less than n_splits=5.\n",
      "  % (min_groups, self.n_splits)), UserWarning)\n",
      "/usr/local/Caskroom/miniconda/base/envs/data-imputation-paper/lib/python3.7/site-packages/sklearn/model_selection/_split.py:668: UserWarning: The least populated class in y has only 1 members, which is less than n_splits=5.\n",
      "  % (min_groups, self.n_splits)), UserWarning)\n",
      "/usr/local/Caskroom/miniconda/base/envs/data-imputation-paper/lib/python3.7/site-packages/sklearn/model_selection/_split.py:668: UserWarning: The least populated class in y has only 1 members, which is less than n_splits=5.\n",
      "  % (min_groups, self.n_splits)), UserWarning)\n",
      "/usr/local/Caskroom/miniconda/base/envs/data-imputation-paper/lib/python3.7/site-packages/sklearn/model_selection/_split.py:668: UserWarning: The least populated class in y has only 1 members, which is less than n_splits=5.\n",
      "  % (min_groups, self.n_splits)), UserWarning)\n",
      "/usr/local/Caskroom/miniconda/base/envs/data-imputation-paper/lib/python3.7/site-packages/sklearn/model_selection/_split.py:668: UserWarning: The least populated class in y has only 1 members, which is less than n_splits=5.\n",
      "  % (min_groups, self.n_splits)), UserWarning)\n",
      "/usr/local/Caskroom/miniconda/base/envs/data-imputation-paper/lib/python3.7/site-packages/sklearn/model_selection/_split.py:668: UserWarning: The least populated class in y has only 2 members, which is less than n_splits=5.\n",
      "  % (min_groups, self.n_splits)), UserWarning)\n",
      "/usr/local/Caskroom/miniconda/base/envs/data-imputation-paper/lib/python3.7/site-packages/sklearn/model_selection/_split.py:668: UserWarning: The least populated class in y has only 2 members, which is less than n_splits=5.\n",
      "  % (min_groups, self.n_splits)), UserWarning)\n",
      "/usr/local/Caskroom/miniconda/base/envs/data-imputation-paper/lib/python3.7/site-packages/sklearn/model_selection/_split.py:668: UserWarning: The least populated class in y has only 1 members, which is less than n_splits=5.\n",
      "  % (min_groups, self.n_splits)), UserWarning)\n",
      "/usr/local/Caskroom/miniconda/base/envs/data-imputation-paper/lib/python3.7/site-packages/sklearn/model_selection/_split.py:668: UserWarning: The least populated class in y has only 1 members, which is less than n_splits=5.\n",
      "  % (min_groups, self.n_splits)), UserWarning)\n",
      "/usr/local/Caskroom/miniconda/base/envs/data-imputation-paper/lib/python3.7/site-packages/sklearn/model_selection/_split.py:668: UserWarning: The least populated class in y has only 1 members, which is less than n_splits=5.\n",
      "  % (min_groups, self.n_splits)), UserWarning)\n"
     ]
    },
    {
     "name": "stdout",
     "output_type": "stream",
     "text": [
      "[2021-02-22 15:05:50,107 - experiment.py:88   - INFO    - run            ]: Experiment Finished! - Results are at: ../data/experiments/2021-02-22_15:02\n",
      "CPU times: user 3min 2s, sys: 28.3 s, total: 3min 31s\n",
      "Wall time: 3min 45s\n"
     ]
    }
   ],
   "source": [
    "%time experiment.run()"
   ]
  }
 ],
 "metadata": {
  "kernelspec": {
   "display_name": "Python 3",
   "language": "python",
   "name": "python3"
  },
  "language_info": {
   "codemirror_mode": {
    "name": "ipython",
    "version": 3
   },
   "file_extension": ".py",
   "mimetype": "text/x-python",
   "name": "python",
   "nbconvert_exporter": "python",
   "pygments_lexer": "ipython3",
   "version": "3.7.9"
  }
 },
 "nbformat": 4,
 "nbformat_minor": 5
}

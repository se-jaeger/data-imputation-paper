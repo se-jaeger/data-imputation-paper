{
 "cells": [
  {
   "cell_type": "code",
   "execution_count": 1,
   "id": "adult-calgary",
   "metadata": {},
   "outputs": [],
   "source": [
    "from data_imputation_paper.experiment import Experiment\n",
    "from data_imputation_paper.imputation.simple import ModeImputer\n",
    "from data_imputation_paper.imputation.ml import KNNImputer, ForestImputer\n",
    "from data_imputation_paper.imputation.dl import AutoKerasImputer\n",
    "from jenga.tasks.openml import OpenMLMultiClassClassificationTask\n",
    "\n",
    "%load_ext autoreload\n",
    "%autoreload 2\n",
    "\n",
    "timestamp = \"corrupted_4711\"\n",
    "fully_observed = False"
   ]
  },
  {
   "cell_type": "code",
   "execution_count": 2,
   "id": "optimum-louisiana",
   "metadata": {},
   "outputs": [],
   "source": [
    "task_id_class_tuples = [\n",
    "    (4552, OpenMLMultiClassClassificationTask),\n",
    "    (1459, OpenMLMultiClassClassificationTask)\n",
    "]\n",
    "\n",
    "experiment = Experiment(\n",
    "    task_id_class_tuples=task_id_class_tuples,\n",
    "    missing_fractions=[0.2, 0.5],\n",
    "    missing_types=[\"MCAR\", \"MNAR\", \"MAR\"],\n",
    "    strategies=[\"single_single\", \"single_all\"],\n",
    "    imputer_class=ModeImputer,\n",
    "    imputer_arguments={},\n",
    "    num_repetitions=5,\n",
    "    base_path=\"../data/experiments\",\n",
    "    timestamp=timestamp,\n",
    "    fully_observed=fully_observed\n",
    ")"
   ]
  },
  {
   "cell_type": "code",
   "execution_count": 3,
   "id": "endangered-charm",
   "metadata": {},
   "outputs": [
    {
     "name": "stdout",
     "output_type": "stream",
     "text": [
      "[2021-03-11 14:05:38,137 - experiment.py:146  - INFO    - run            ]: Experiment Finished! - Results are at: ../data/experiments/corrupted_4711\n",
      "CPU times: user 37.4 s, sys: 836 ms, total: 38.2 s\n",
      "Wall time: 48.7 s\n"
     ]
    }
   ],
   "source": [
    "%time experiment.run()"
   ]
  },
  {
   "cell_type": "code",
   "execution_count": 4,
   "id": "palestinian-outreach",
   "metadata": {},
   "outputs": [],
   "source": [
    "task_id_class_tuples = [\n",
    "    (4552, OpenMLMultiClassClassificationTask),\n",
    "    (1459, OpenMLMultiClassClassificationTask)\n",
    "]\n",
    "\n",
    "experiment = Experiment(\n",
    "    task_id_class_tuples=task_id_class_tuples,\n",
    "    missing_fractions=[0.2, 0.5],\n",
    "    missing_types=[\"MCAR\", \"MNAR\", \"MAR\"],\n",
    "    strategies=[\"single_single\", \"single_all\"],\n",
    "    imputer_class=KNNImputer,\n",
    "    imputer_arguments={\n",
    "        \"hyperparameter_grid_categorical_imputer\": {\n",
    "            \"n_neighbors\": [3, 5]\n",
    "        },\n",
    "        \"hyperparameter_grid_numerical_imputer\": {\n",
    "            \"n_neighbors\": [3, 5]\n",
    "        }\n",
    "    },\n",
    "    num_repetitions=5,\n",
    "    base_path=\"../data/experiments\",\n",
    "    timestamp=timestamp,\n",
    "    fully_observed=fully_observed\n",
    ")"
   ]
  },
  {
   "cell_type": "code",
   "execution_count": 5,
   "id": "solar-marker",
   "metadata": {
    "scrolled": true
   },
   "outputs": [
    {
     "name": "stdout",
     "output_type": "stream",
     "text": [
      "[2021-03-11 14:07:12,053 - experiment.py:146  - INFO    - run            ]: Experiment Finished! - Results are at: ../data/experiments/corrupted_4711\n",
      "CPU times: user 1min 42s, sys: 20.1 s, total: 2min 3s\n",
      "Wall time: 1min 33s\n"
     ]
    }
   ],
   "source": [
    "%time experiment.run()"
   ]
  }
 ],
 "metadata": {
  "kernelspec": {
   "display_name": "Python 3",
   "language": "python",
   "name": "python3"
  },
  "language_info": {
   "codemirror_mode": {
    "name": "ipython",
    "version": 3
   },
   "file_extension": ".py",
   "mimetype": "text/x-python",
   "name": "python",
   "nbconvert_exporter": "python",
   "pygments_lexer": "ipython3",
   "version": "3.8.8"
  }
 },
 "nbformat": 4,
 "nbformat_minor": 5
}

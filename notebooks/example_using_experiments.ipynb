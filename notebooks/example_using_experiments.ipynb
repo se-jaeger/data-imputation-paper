{
 "cells": [
  {
   "cell_type": "code",
   "execution_count": 1,
   "id": "coated-publicity",
   "metadata": {},
   "outputs": [],
   "source": [
    "from data_imputation_paper.experiment import Experiment, Evaluator\n",
    "from data_imputation_paper.imputation.simple import ModeImputer\n",
    "from data_imputation_paper.imputation.ml import KNNImputer, ForestImputer"
   ]
  },
  {
   "cell_type": "code",
   "execution_count": 2,
   "id": "treated-travel",
   "metadata": {},
   "outputs": [],
   "source": [
    "seed = 42"
   ]
  },
  {
   "cell_type": "code",
   "execution_count": 3,
   "id": "false-alloy",
   "metadata": {},
   "outputs": [],
   "source": [
    "experiment = Experiment(\n",
    "    task_ids=[4552, 1459],\n",
    "    missing_fractions=[0.2, 0.5],\n",
    "    missing_types=[\"MCAR\", \"MNAR\", \"MAR\"],\n",
    "    imputer_class=ModeImputer,\n",
    "    imputer_arguments={\"seed\": seed},\n",
    "    num_repetitions=2,\n",
    "    seed=seed,\n",
    "    base_path=\"../data/experiments\"\n",
    ")"
   ]
  },
  {
   "cell_type": "code",
   "execution_count": 4,
   "id": "unknown-pakistan",
   "metadata": {},
   "outputs": [
    {
     "name": "stdout",
     "output_type": "stream",
     "text": [
      "Found 14 categorical columns: ['V1', 'V3', 'V4', 'V5', 'V6', 'V7', 'V8', 'V9', 'V10', 'V11', 'V12', 'V13', 'V14', 'V15']\n",
      "Found 2 numeric columns: ['V2', 'V16']\n",
      "Found 0 categorical columns: []\n",
      "Found 7 numeric columns: ['V1', 'V2', 'V3', 'V4', 'V5', 'V6', 'V7']\n",
      "[2021-02-04 17:45:35,468 - experiment.py:70   - INFO    - run            ]: Experiment Finished! - Results are at: ../data/experiments/2021-02-04_17:45\n"
     ]
    }
   ],
   "source": [
    "experiment.run()"
   ]
  },
  {
   "cell_type": "code",
   "execution_count": null,
   "id": "photographic-mortality",
   "metadata": {},
   "outputs": [],
   "source": []
  }
 ],
 "metadata": {
  "kernelspec": {
   "display_name": "Python 3",
   "language": "python",
   "name": "python3"
  },
  "language_info": {
   "codemirror_mode": {
    "name": "ipython",
    "version": 3
   },
   "file_extension": ".py",
   "mimetype": "text/x-python",
   "name": "python",
   "nbconvert_exporter": "python",
   "pygments_lexer": "ipython3",
   "version": "3.8.5"
  }
 },
 "nbformat": 4,
 "nbformat_minor": 5
}

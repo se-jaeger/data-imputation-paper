{
 "cells": [
  {
   "cell_type": "code",
   "execution_count": 3,
   "id": "cutting-forwarding",
   "metadata": {},
   "outputs": [],
   "source": [
    "from data_imputation_paper.experiment import Experiment, Evaluator\n",
    "from data_imputation_paper.imputation.simple import ModeImputer\n",
    "from data_imputation_paper.imputation.ml import KNNImputer, ForestImputer, AutoKerasImputer"
   ]
  },
  {
   "cell_type": "code",
   "execution_count": 4,
   "id": "cleared-admission",
   "metadata": {},
   "outputs": [],
   "source": [
    "experiment = Experiment(\n",
    "    task_ids=[4552, 1459],\n",
    "    missing_fractions=[0.2, 0.5],\n",
    "    missing_types=[\"MCAR\", \"MNAR\", \"MAR\"],\n",
    "    imputer_class=ModeImputer,\n",
    "    imputer_arguments={},\n",
    "    num_repetitions=2,\n",
    "    base_path=\"../data/experiments\"\n",
    ")"
   ]
  },
  {
   "cell_type": "code",
   "execution_count": 5,
   "id": "decimal-niger",
   "metadata": {},
   "outputs": [
    {
     "name": "stdout",
     "output_type": "stream",
     "text": [
      "Found 14 categorical columns: ['V1', 'V3', 'V4', 'V5', 'V6', 'V7', 'V8', 'V9', 'V10', 'V11', 'V12', 'V13', 'V14', 'V15']\n",
      "Found 2 numeric columns: ['V2', 'V16']\n",
      "Found 0 categorical columns: []\n",
      "Found 7 numeric columns: ['V1', 'V2', 'V3', 'V4', 'V5', 'V6', 'V7']\n",
      "[2021-02-19 22:15:21,040 - experiment.py:88   - INFO    - run            ]: Experiment Finished! - Results are at: ../data/experiments/2021-02-19_22:14\n",
      "CPU times: user 31.8 s, sys: 530 ms, total: 32.3 s\n",
      "Wall time: 32.7 s\n"
     ]
    }
   ],
   "source": [
    "%time experiment.run()"
   ]
  },
  {
   "cell_type": "code",
   "execution_count": 6,
   "id": "attended-worship",
   "metadata": {},
   "outputs": [],
   "source": [
    "experiment = Experiment(\n",
    "    task_ids=[4552, 1459],\n",
    "    missing_fractions=[0.2, 0.5],\n",
    "    missing_types=[\"MCAR\", \"MNAR\", \"MAR\"],\n",
    "    imputer_class=KNNImputer,\n",
    "    imputer_arguments={\n",
    "        \"hyperparameter_grid_categorical_imputer\": {\n",
    "            \"n_neighbors\": [3, 5]\n",
    "        },\n",
    "        \"hyperparameter_grid_numerical_imputer\": {\n",
    "            \"n_neighbors\": [3, 5]\n",
    "        }\n",
    "    },\n",
    "    num_repetitions=2,\n",
    "    base_path=\"../data/experiments\"\n",
    ")"
   ]
  },
  {
   "cell_type": "code",
   "execution_count": null,
   "id": "architectural-nicaragua",
   "metadata": {
    "scrolled": true
   },
   "outputs": [
    {
     "name": "stdout",
     "output_type": "stream",
     "text": [
      "Found 14 categorical columns: ['V1', 'V3', 'V4', 'V5', 'V6', 'V7', 'V8', 'V9', 'V10', 'V11', 'V12', 'V13', 'V14', 'V15']\n",
      "Found 2 numeric columns: ['V2', 'V16']\n"
     ]
    },
    {
     "name": "stderr",
     "output_type": "stream",
     "text": [
      "/Users/felix/anaconda3/envs/data-imputation-paper/lib/python3.8/site-packages/sklearn/model_selection/_split.py:666: UserWarning: The least populated class in y has only 1 members, which is less than n_splits=5.\n",
      "  warnings.warn((\"The least populated class in y has only %d\"\n",
      "/Users/felix/anaconda3/envs/data-imputation-paper/lib/python3.8/site-packages/sklearn/model_selection/_split.py:666: UserWarning: The least populated class in y has only 1 members, which is less than n_splits=5.\n",
      "  warnings.warn((\"The least populated class in y has only %d\"\n",
      "/Users/felix/anaconda3/envs/data-imputation-paper/lib/python3.8/site-packages/sklearn/model_selection/_split.py:666: UserWarning: The least populated class in y has only 1 members, which is less than n_splits=5.\n",
      "  warnings.warn((\"The least populated class in y has only %d\"\n",
      "/Users/felix/anaconda3/envs/data-imputation-paper/lib/python3.8/site-packages/sklearn/model_selection/_split.py:666: UserWarning: The least populated class in y has only 1 members, which is less than n_splits=5.\n",
      "  warnings.warn((\"The least populated class in y has only %d\"\n",
      "/Users/felix/anaconda3/envs/data-imputation-paper/lib/python3.8/site-packages/sklearn/model_selection/_split.py:666: UserWarning: The least populated class in y has only 1 members, which is less than n_splits=5.\n",
      "  warnings.warn((\"The least populated class in y has only %d\"\n",
      "/Users/felix/anaconda3/envs/data-imputation-paper/lib/python3.8/site-packages/sklearn/model_selection/_split.py:666: UserWarning: The least populated class in y has only 1 members, which is less than n_splits=5.\n",
      "  warnings.warn((\"The least populated class in y has only %d\"\n",
      "/Users/felix/anaconda3/envs/data-imputation-paper/lib/python3.8/site-packages/sklearn/model_selection/_split.py:666: UserWarning: The least populated class in y has only 1 members, which is less than n_splits=5.\n",
      "  warnings.warn((\"The least populated class in y has only %d\"\n",
      "/Users/felix/anaconda3/envs/data-imputation-paper/lib/python3.8/site-packages/sklearn/model_selection/_split.py:666: UserWarning: The least populated class in y has only 1 members, which is less than n_splits=5.\n",
      "  warnings.warn((\"The least populated class in y has only %d\"\n",
      "/Users/felix/anaconda3/envs/data-imputation-paper/lib/python3.8/site-packages/sklearn/model_selection/_split.py:666: UserWarning: The least populated class in y has only 1 members, which is less than n_splits=5.\n",
      "  warnings.warn((\"The least populated class in y has only %d\"\n",
      "/Users/felix/anaconda3/envs/data-imputation-paper/lib/python3.8/site-packages/sklearn/model_selection/_split.py:666: UserWarning: The least populated class in y has only 1 members, which is less than n_splits=5.\n",
      "  warnings.warn((\"The least populated class in y has only %d\"\n"
     ]
    }
   ],
   "source": [
    "%time experiment.run()"
   ]
  },
  {
   "cell_type": "code",
   "execution_count": null,
   "id": "passive-kuwait",
   "metadata": {},
   "outputs": [],
   "source": [
    "experiment = Experiment(\n",
    "    task_ids=[4552],\n",
    "    missing_fractions=[0.2],\n",
    "    missing_types=[\"MCAR\"],\n",
    "    imputer_class=AutoKerasImputer,\n",
    "    imputer_arguments={\n",
    "        'max_trials': 2,\n",
    "        'tuner': 'greedy',\n",
    "        'validation_split': 0.1,\n",
    "        'epochs': 2},\n",
    "    num_repetitions=2,\n",
    "    base_path=\"../data/experiments\"\n",
    ")"
   ]
  },
  {
   "cell_type": "code",
   "execution_count": null,
   "id": "portuguese-waters",
   "metadata": {},
   "outputs": [],
   "source": [
    "%time experiment.run()"
   ]
  }
 ],
 "metadata": {
  "kernelspec": {
   "display_name": "Python 3",
   "language": "python",
   "name": "python3"
  },
  "language_info": {
   "codemirror_mode": {
    "name": "ipython",
    "version": 3
   },
   "file_extension": ".py",
   "mimetype": "text/x-python",
   "name": "python",
   "nbconvert_exporter": "python",
   "pygments_lexer": "ipython3",
   "version": "3.8.5"
  }
 },
 "nbformat": 4,
 "nbformat_minor": 5
}

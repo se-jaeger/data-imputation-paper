{
 "cells": [
  {
   "cell_type": "code",
   "execution_count": 1,
   "metadata": {},
   "outputs": [],
   "source": [
    "from jenga.tasks.openml import OpenMLTask\n",
    "from jenga.corruptions.generic import MissingValues\n",
    "    \n",
    "import pandas as pd\n",
    "import numpy as np\n",
    "\n",
    "from data_imputation_paper.imputation.simple import ModeImputer\n",
    "from data_imputation_paper.imputation.ml import KNNImputer, ForestImputer\n",
    "from data_imputation_paper.imputation.generative import GAINImputer\n",
    "from data_imputation_paper.evaluation import Evaluator"
   ]
  },
  {
   "cell_type": "markdown",
   "metadata": {},
   "source": [
    "## Make Deterministic"
   ]
  },
  {
   "cell_type": "code",
   "execution_count": 2,
   "metadata": {},
   "outputs": [],
   "source": [
    "seed = 42"
   ]
  },
  {
   "cell_type": "markdown",
   "metadata": {},
   "source": [
    "## Create example tasks"
   ]
  },
  {
   "cell_type": "code",
   "execution_count": 3,
   "metadata": {},
   "outputs": [
    {
     "name": "stdout",
     "output_type": "stream",
     "text": [
      "Found 14 categorical columns: ['V1', 'V3', 'V4', 'V5', 'V6', 'V7', 'V8', 'V9', 'V10', 'V11', 'V12', 'V13', 'V14', 'V15']\n",
      "Found 2 numeric columns: ['V2', 'V16']\n"
     ]
    }
   ],
   "source": [
    "task = OpenMLTask(seed=seed, openml_id=4552)\n",
    "\n",
    "if task.contains_missing_values():\n",
    "    raise ValueError(\"This would distort the evaluation because we wouldn't have a full ground truth.\")"
   ]
  },
  {
   "cell_type": "markdown",
   "metadata": {},
   "source": [
    "## Insert missing values using jenga"
   ]
  },
  {
   "cell_type": "code",
   "execution_count": 4,
   "metadata": {},
   "outputs": [],
   "source": [
    "missing_values = [\n",
    "    MissingValues(column='V2', fraction=0.5, na_value=np.nan, missingness='MCAR'),\n",
    "    MissingValues(column='V4', fraction=0.5, na_value=np.nan, missingness='MCAR'),\n",
    "    MissingValues(column='V15', fraction=0.5, na_value=np.nan, missingness='MCAR')\n",
    "]"
   ]
  },
  {
   "cell_type": "markdown",
   "metadata": {},
   "source": [
    "## Mode Imputation"
   ]
  },
  {
   "cell_type": "code",
   "execution_count": 5,
   "metadata": {},
   "outputs": [
    {
     "name": "stdout",
     "output_type": "stream",
     "text": [
      "Evaluation result contains 3 target columns: V2, V4, V15\n",
      "All are in a round-robin fashion imputed and performances are as follows:\n",
      "\n",
      "Target Column: V2\n",
      "            train         test\n",
      "MAE     29.644429    28.885080\n",
      "MSE   1405.066363  1327.984169\n",
      "RMSE    37.480881    36.429985\n",
      "\n",
      "Target Column: V4\n",
      "                train      test\n",
      "F1_micro     0.825243  0.845760\n",
      "F1_macro     0.452124  0.458207\n",
      "F1_weighted  0.746237  0.775105\n",
      "\n",
      "Target Column: V15\n",
      "                train      test\n",
      "F1_micro     0.117432  0.116431\n",
      "F1_macro     0.013135  0.013025\n",
      "F1_weighted  0.024701  0.024463\n",
      "\n"
     ]
    }
   ],
   "source": [
    "Evaluator(task, missing_values, ModeImputer(seed=seed)).evaluate(10).report()"
   ]
  },
  {
   "cell_type": "markdown",
   "metadata": {},
   "source": [
    "## KNN imputation"
   ]
  },
  {
   "cell_type": "code",
   "execution_count": 6,
   "metadata": {},
   "outputs": [
    {
     "name": "stdout",
     "output_type": "stream",
     "text": [
      "Evaluation result contains 3 target columns: V2, V4, V15\n",
      "All are in a round-robin fashion imputed and performances are as follows:\n",
      "\n",
      "Target Column: V2\n",
      "            train         test\n",
      "MAE     30.905878    29.830459\n",
      "MSE   1524.203410  1430.744608\n",
      "RMSE    39.037683    37.815496\n",
      "\n",
      "Target Column: V4\n",
      "                train      test\n",
      "F1_micro     0.929656  0.944170\n",
      "F1_macro     0.870220  0.891768\n",
      "F1_weighted  0.927796  0.943277\n",
      "\n",
      "Target Column: V15\n",
      "                train      test\n",
      "F1_micro     0.524537  0.515548\n",
      "F1_macro     0.426727  0.419469\n",
      "F1_weighted  0.518370  0.508862\n",
      "\n"
     ]
    }
   ],
   "source": [
    "Evaluator(task, missing_values, KNNImputer(seed=seed)).evaluate(5).report()"
   ]
  },
  {
   "cell_type": "markdown",
   "metadata": {},
   "source": [
    "## Forest imputation"
   ]
  },
  {
   "cell_type": "code",
   "execution_count": 7,
   "metadata": {},
   "outputs": [
    {
     "name": "stdout",
     "output_type": "stream",
     "text": [
      "Evaluation result contains 3 target columns: V2, V4, V15\n",
      "All are in a round-robin fashion imputed and performances are as follows:\n",
      "\n",
      "Target Column: V2\n",
      "            train         test\n",
      "MAE     27.985317    27.595843\n",
      "MSE   1248.860013  1234.804603\n",
      "RMSE    35.336940    35.130570\n",
      "\n",
      "Target Column: V4\n",
      "                train      test\n",
      "F1_micro     0.948279  0.961484\n",
      "F1_macro     0.906490  0.924909\n",
      "F1_weighted  0.947228  0.960232\n",
      "\n",
      "Target Column: V15\n",
      "                train      test\n",
      "F1_micro     0.560812  0.566078\n",
      "F1_macro     0.469335  0.474492\n",
      "F1_weighted  0.556048  0.561442\n",
      "\n"
     ]
    }
   ],
   "source": [
    "Evaluator(task, missing_values, ForestImputer(seed=seed)).evaluate(5).report()"
   ]
  },
  {
   "cell_type": "markdown",
   "metadata": {},
   "source": [
    "## GAIN imputation"
   ]
  },
  {
   "cell_type": "code",
   "execution_count": 5,
   "metadata": {},
   "outputs": [
    {
     "name": "stdout",
     "output_type": "stream",
     "text": [
      "Evaluation result contains 3 target columns: V2, V4, V15\n",
      "All are in a round-robin fashion imputed and performances are as follows:\n",
      "\n",
      "Target Column: V2\n",
      "            train         test\n",
      "MAE     34.163356    34.117636\n",
      "MSE   1910.745171  1881.236243\n",
      "RMSE    43.709042    43.353753\n",
      "\n",
      "Target Column: V4\n",
      "                train      test\n",
      "F1_micro     0.877670  0.878445\n",
      "F1_macro     0.698892  0.687975\n",
      "F1_weighted  0.853193  0.852072\n",
      "\n",
      "Target Column: V15\n",
      "                train      test\n",
      "F1_micro     0.059753  0.072792\n",
      "F1_macro     0.041935  0.051820\n",
      "F1_weighted  0.052225  0.061596\n",
      "\n"
     ]
    }
   ],
   "source": [
    "Evaluator(task, missing_values, GAINImputer(task.train_data.shape[1], {}, seed=seed)).evaluate(5).report()"
   ]
  },
  {
   "cell_type": "code",
   "execution_count": null,
   "metadata": {},
   "outputs": [],
   "source": []
  }
 ],
 "metadata": {
  "kernelspec": {
   "display_name": "Python 3",
   "language": "python",
   "name": "python3"
  },
  "language_info": {
   "codemirror_mode": {
    "name": "ipython",
    "version": 3
   },
   "file_extension": ".py",
   "mimetype": "text/x-python",
   "name": "python",
   "nbconvert_exporter": "python",
   "pygments_lexer": "ipython3",
   "version": "3.8.5"
  }
 },
 "nbformat": 4,
 "nbformat_minor": 4
}

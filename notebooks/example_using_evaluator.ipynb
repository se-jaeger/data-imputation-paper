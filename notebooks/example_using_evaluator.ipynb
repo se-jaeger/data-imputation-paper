{
 "cells": [
  {
   "cell_type": "code",
   "execution_count": 1,
   "metadata": {},
   "outputs": [],
   "source": [
    "from jenga.tasks.openml import OpenMLBinaryClassificationTask, OpenMLMultiClassClassificationTask, OpenMLRegressionTask\n",
    "    \n",
    "import pandas as pd\n",
    "import numpy as np\n",
    "\n",
    "from data_imputation_paper.imputation.simple import ModeImputer\n",
    "from data_imputation_paper.imputation.ml import KNNImputer, ForestImputer\n",
    "from data_imputation_paper.imputation.dl import AutoKerasImputer\n",
    "from data_imputation_paper.imputation.generative import GAINImputer, VAEImputer\n",
    "from data_imputation_paper.evaluation import SingleColumnEvaluator, MultipleColumnsEvaluator, SingleColumnAllMissingEvaluator, MultipleColumnsAllMissingEvaluator\n",
    "\n",
    "%load_ext autoreload\n",
    "%autoreload 2"
   ]
  },
  {
   "cell_type": "markdown",
   "metadata": {},
   "source": [
    "## Make Deterministic"
   ]
  },
  {
   "cell_type": "code",
   "execution_count": 2,
   "metadata": {},
   "outputs": [],
   "source": [
    "seed = 42"
   ]
  },
  {
   "cell_type": "markdown",
   "metadata": {},
   "source": [
    "## Create example tasks"
   ]
  },
  {
   "cell_type": "code",
   "execution_count": 3,
   "metadata": {},
   "outputs": [],
   "source": [
    "task = OpenMLMultiClassClassificationTask(openml_id=4552, seed=seed)"
   ]
  },
  {
   "cell_type": "markdown",
   "metadata": {},
   "source": [
    "## Insert missing values using jenga"
   ]
  },
  {
   "cell_type": "code",
   "execution_count": 4,
   "metadata": {},
   "outputs": [],
   "source": [
    "target_columns = ['V2', 'V4', 'V8', 'V15']"
   ]
  },
  {
   "cell_type": "markdown",
   "metadata": {},
   "source": [
    "## Mode Imputation"
   ]
  },
  {
   "cell_type": "code",
   "execution_count": 5,
   "metadata": {},
   "outputs": [
    {
     "name": "stdout",
     "output_type": "stream",
     "text": [
      "Evaluation result contains 1 target columns: V2\n",
      "All are in a round-robin fashion imputed and performances are as follows:\n",
      "\n",
      "Target Column: V2 - Necessary train time in seconds: 0.0011\n",
      "            train         test\n",
      "MAE     29.233595    28.900308\n",
      "MSE   1338.990191  1375.117794\n",
      "RMSE    36.589374    37.078149\n",
      "\n",
      "             baseline  corrupted   imputed\n",
      "F1_micro     0.714916   0.715799  0.714034\n",
      "F1_macro     0.424069   0.416123  0.416774\n",
      "F1_weighted  0.697985   0.698429  0.695847\n",
      "\n",
      "\n",
      "CPU times: user 2.47 s, sys: 180 ms, total: 2.65 s\n",
      "Wall time: 4.22 s\n"
     ]
    }
   ],
   "source": [
    "arguments = {\n",
    "    \"seed\": seed\n",
    "}\n",
    "\n",
    "%time SingleColumnEvaluator(task, 0.5, \"MCAR\", target_columns[0], ModeImputer, arguments).evaluate(3).report()"
   ]
  },
  {
   "cell_type": "code",
   "execution_count": 6,
   "metadata": {},
   "outputs": [
    {
     "name": "stdout",
     "output_type": "stream",
     "text": [
      "Evaluation result contains 2 target columns: V2, V4\n",
      "All are in a round-robin fashion imputed and performances are as follows:\n",
      "\n",
      "Target Column: V2 - Necessary train time in seconds: 0.001\n",
      "            train         test\n",
      "MAE     29.095922    28.527269\n",
      "MSE   1315.426330  1339.126494\n",
      "RMSE    36.256054    36.574130\n",
      "\n",
      "             baseline  corrupted   imputed\n",
      "F1_micro     0.714916   0.709915  0.707267\n",
      "F1_macro     0.424069   0.426744  0.424680\n",
      "F1_weighted  0.697985   0.695453  0.691909\n",
      "\n",
      "\n",
      "Target Column: V4 - Necessary train time in seconds: 0.0011\n",
      "                train      test\n",
      "F1_micro     0.828479  0.818610\n",
      "F1_macro     0.453096  0.450050\n",
      "F1_weighted  0.750767  0.737121\n",
      "\n",
      "             baseline  corrupted   imputed\n",
      "F1_micro     0.714916   0.710209  0.707855\n",
      "F1_macro     0.424069   0.413996  0.409783\n",
      "F1_weighted  0.697985   0.694445  0.689864\n",
      "\n",
      "\n",
      "CPU times: user 730 ms, sys: 15.2 ms, total: 745 ms\n",
      "Wall time: 746 ms\n"
     ]
    }
   ],
   "source": [
    "arguments = {\n",
    "    \"seed\": seed\n",
    "}\n",
    "\n",
    "%time MultipleColumnsEvaluator(task, 0.5, \"MCAR\", target_columns[:2], ModeImputer, arguments).evaluate(3).report()"
   ]
  },
  {
   "cell_type": "code",
   "execution_count": 7,
   "metadata": {},
   "outputs": [
    {
     "name": "stdout",
     "output_type": "stream",
     "text": [
      "Evaluation result contains 1 target columns: V15\n",
      "All are in a round-robin fashion imputed and performances are as follows:\n",
      "\n",
      "Target Column: V15 - Necessary train time in seconds: 0.0011\n",
      "                train      test\n",
      "F1_micro     0.096927  0.104762\n",
      "F1_macro     0.012295  0.017982\n",
      "F1_weighted  0.019625  0.020927\n",
      "\n",
      "             baseline  corrupted   imputed\n",
      "F1_micro     0.714916   0.703736  0.699618\n",
      "F1_macro     0.424069   0.403165  0.400577\n",
      "F1_weighted  0.697985   0.688191  0.684768\n",
      "\n",
      "\n",
      "CPU times: user 457 ms, sys: 6.8 ms, total: 464 ms\n",
      "Wall time: 464 ms\n"
     ]
    }
   ],
   "source": [
    "arguments = {\n",
    "    \"seed\": seed\n",
    "}\n",
    "\n",
    "%time SingleColumnAllMissingEvaluator(task, 0.5, \"MCAR\", target_columns[-1], ModeImputer, arguments).evaluate(3).report()"
   ]
  },
  {
   "cell_type": "code",
   "execution_count": 8,
   "metadata": {},
   "outputs": [
    {
     "name": "stdout",
     "output_type": "stream",
     "text": [
      "Evaluation result contains 2 target columns: V8, V15\n",
      "All are in a round-robin fashion imputed and performances are as follows:\n",
      "\n",
      "Target Column: V8 - Necessary train time in seconds: 0.0009\n",
      "                train      test\n",
      "F1_micro     0.789598  0.800000\n",
      "F1_macro     0.441119  0.443803\n",
      "F1_weighted  0.696957  0.712393\n",
      "\n",
      "             baseline  corrupted   imputed\n",
      "F1_micro     0.714916   0.703736  0.700794\n",
      "F1_macro     0.424069   0.403165  0.405031\n",
      "F1_weighted  0.697985   0.688191  0.684326\n",
      "\n",
      "\n",
      "Target Column: V15 - Necessary train time in seconds: 0.001\n",
      "                train      test\n",
      "F1_micro     0.115839  0.142857\n",
      "F1_macro     0.015273  0.024040\n",
      "F1_weighted  0.024067  0.036444\n",
      "\n",
      "             baseline  corrupted   imputed\n",
      "F1_micro     0.714916   0.701971  0.696087\n",
      "F1_macro     0.424069   0.402340  0.400751\n",
      "F1_weighted  0.697985   0.688804  0.683104\n",
      "\n",
      "\n",
      "CPU times: user 898 ms, sys: 11.5 ms, total: 909 ms\n",
      "Wall time: 910 ms\n"
     ]
    }
   ],
   "source": [
    "arguments = {\n",
    "    \"seed\": seed\n",
    "}\n",
    "\n",
    "%time MultipleColumnsAllMissingEvaluator(task, 0.5, \"MCAR\", target_columns[2:], ModeImputer, arguments).evaluate(3).report()"
   ]
  },
  {
   "cell_type": "markdown",
   "metadata": {},
   "source": [
    "## KNN imputation"
   ]
  },
  {
   "cell_type": "code",
   "execution_count": 9,
   "metadata": {},
   "outputs": [
    {
     "name": "stdout",
     "output_type": "stream",
     "text": [
      "Evaluation result contains 4 target columns: V2, V4, V8, V15\n",
      "All are in a round-robin fashion imputed and performances are as follows:\n",
      "\n",
      "Target Column: V2 - Necessary train time in seconds: 0.7122\n",
      "           train         test\n",
      "MAE    23.560757    32.820952\n",
      "MSE   976.544208  1848.329524\n",
      "RMSE   31.206823    42.626019\n",
      "\n",
      "             baseline  corrupted   imputed\n",
      "F1_micro     0.714916   0.703736  0.703442\n",
      "F1_macro     0.424069   0.403165  0.404114\n",
      "F1_weighted  0.697985   0.688191  0.687819\n",
      "\n",
      "\n",
      "Target Column: V4 - Necessary train time in seconds: 0.6696\n",
      "                train      test\n",
      "F1_micro     0.952719  0.914286\n",
      "F1_macro     0.911372  0.865618\n",
      "F1_weighted  0.952284  0.909679\n",
      "\n",
      "             baseline  corrupted   imputed\n",
      "F1_micro     0.714916   0.701971  0.702560\n",
      "F1_macro     0.424069   0.402340  0.402102\n",
      "F1_weighted  0.697985   0.688804  0.689189\n",
      "\n",
      "\n",
      "Target Column: V8 - Necessary train time in seconds: 0.6555\n",
      "                train      test\n",
      "F1_micro     0.959811  0.876190\n",
      "F1_macro     0.939325  0.787697\n",
      "F1_weighted  0.959701  0.873275\n",
      "\n",
      "             baseline  corrupted   imputed\n",
      "F1_micro     0.714916   0.695793  0.696381\n",
      "F1_macro     0.424069   0.385241  0.386307\n",
      "F1_weighted  0.697985   0.681561  0.682076\n",
      "\n",
      "\n",
      "Target Column: V15 - Necessary train time in seconds: 0.6049\n",
      "                train      test\n",
      "F1_micro     0.628842  0.428571\n",
      "F1_macro     0.528983  0.314686\n",
      "F1_weighted  0.623656  0.433091\n",
      "\n",
      "             baseline  corrupted   imputed\n",
      "F1_micro     0.714916   0.698441  0.696970\n",
      "F1_macro     0.424069   0.407963  0.405234\n",
      "F1_weighted  0.697985   0.685943  0.684693\n",
      "\n",
      "\n",
      "CPU times: user 10.4 s, sys: 1.78 s, total: 12.2 s\n",
      "Wall time: 5.01 s\n"
     ]
    }
   ],
   "source": [
    "arguments = {\n",
    "    \"seed\": seed,\n",
    "    \"hyperparameter_grid_categorical_imputer\": {\n",
    "        \"n_neighbors\": [3, 5]\n",
    "    },\n",
    "    \"hyperparameter_grid_numerical_imputer\": {\n",
    "        \"n_neighbors\": [3, 5]\n",
    "    }\n",
    "}\n",
    "\n",
    "%time MultipleColumnsAllMissingEvaluator(task, 0.5, \"MCAR\", target_columns, KNNImputer, arguments).evaluate(3).report()"
   ]
  },
  {
   "cell_type": "markdown",
   "metadata": {},
   "source": [
    "## Forest imputation"
   ]
  },
  {
   "cell_type": "code",
   "execution_count": 10,
   "metadata": {},
   "outputs": [
    {
     "name": "stdout",
     "output_type": "stream",
     "text": [
      "CPU times: user 83 µs, sys: 0 ns, total: 83 µs\n",
      "Wall time: 87 µs\n"
     ]
    },
    {
     "data": {
      "text/plain": [
       "<data_imputation_paper.evaluation.MultipleColumnsAllMissingEvaluator at 0x7febb7d5beb0>"
      ]
     },
     "execution_count": 10,
     "metadata": {},
     "output_type": "execute_result"
    }
   ],
   "source": [
    "arguments = {\n",
    "    \"seed\": seed,\n",
    "    \"hyperparameter_grid_categorical_imputer\": {\n",
    "        \"n_estimators\": [10, 50, 100]\n",
    "    },\n",
    "    \"hyperparameter_grid_numerical_imputer\": {\n",
    "        \"n_estimators\": [10, 50, 100]\n",
    "    }\n",
    "}\n",
    "\n",
    "%time MultipleColumnsAllMissingEvaluator(task, 0.5, \"MCAR\", target_columns, ForestImputer, arguments)"
   ]
  },
  {
   "cell_type": "markdown",
   "metadata": {},
   "source": [
    "## AutoKeras imputation"
   ]
  },
  {
   "cell_type": "code",
   "execution_count": 11,
   "metadata": {},
   "outputs": [
    {
     "name": "stdout",
     "output_type": "stream",
     "text": [
      "Trial 2 Complete [00h 00m 02s]\n",
      "val_accuracy: 0.8529411554336548\n",
      "\n",
      "Best val_accuracy So Far: 0.8540723919868469\n",
      "Total elapsed time: 00h 00m 05s\n",
      "Epoch 1/2\n",
      "142/142 [==============================] - 1s 1ms/step - loss: 0.7124 - accuracy: 0.7838\n",
      "Epoch 2/2\n",
      "142/142 [==============================] - 0s 1ms/step - loss: 0.4473 - accuracy: 0.8324\n",
      "Evaluation result contains 1 target columns: V4\n",
      "All are in a round-robin fashion imputed and performances are as follows:\n",
      "\n",
      "Target Column: V4 - Necessary train time in seconds: 10.3166\n",
      "             train  test\n",
      "F1_micro       1.0   1.0\n",
      "F1_macro       1.0   1.0\n",
      "F1_weighted    1.0   1.0\n",
      "\n",
      "             baseline  corrupted   imputed\n",
      "F1_micro     0.714916   0.713151  0.712857\n",
      "F1_macro     0.424069   0.421263  0.419422\n",
      "F1_weighted  0.697985   0.697947  0.697334\n",
      "\n",
      "\n",
      "CPU times: user 16.5 s, sys: 1.55 s, total: 18 s\n",
      "Wall time: 16.4 s\n"
     ]
    }
   ],
   "source": [
    "arguments = {\n",
    "    \"seed\": seed,\n",
    "    'max_trials': 2,\n",
    "    'tuner': 'greedy',\n",
    "    'validation_split': 0.1,\n",
    "    'epochs': 2\n",
    "}\n",
    "\n",
    "%time SingleColumnAllMissingEvaluator(task, 0.2, \"MNAR\", target_columns[1], AutoKerasImputer, arguments).evaluate(3).report()"
   ]
  },
  {
   "cell_type": "markdown",
   "metadata": {},
   "source": [
    "## VAE imputation"
   ]
  },
  {
   "cell_type": "code",
   "execution_count": 12,
   "metadata": {},
   "outputs": [
    {
     "name": "stdout",
     "output_type": "stream",
     "text": [
      "Evaluation result contains 1 target columns: V4\n",
      "All are in a round-robin fashion imputed and performances are as follows:\n",
      "\n",
      "Target Column: V4 - Necessary train time in seconds: 27.4564\n",
      "                train      test\n",
      "F1_micro     0.839217  0.826266\n",
      "F1_macro     0.559599  0.550766\n",
      "F1_weighted  0.796622  0.778012\n",
      "\n",
      "             baseline  corrupted   imputed\n",
      "F1_micro     0.714916   0.697264  0.698147\n",
      "F1_macro     0.424069   0.412526  0.395049\n",
      "F1_weighted  0.697985   0.683110  0.679533\n",
      "\n",
      "\n",
      "CPU times: user 34.9 s, sys: 3.41 s, total: 38.3 s\n",
      "Wall time: 28.3 s\n"
     ]
    }
   ],
   "source": [
    "arguments = {\n",
    "    \"seed\": seed,\n",
    "    \"hyperparameter_grid\": {\n",
    "        \"optimizer\": {\n",
    "            \"learning_rate\": [0.01]\n",
    "        }\n",
    "    }\n",
    "}\n",
    "\n",
    "%time SingleColumnEvaluator(task, 0.5, \"MCAR\", target_columns[1], VAEImputer, arguments).evaluate(3).report()"
   ]
  },
  {
   "cell_type": "markdown",
   "metadata": {},
   "source": [
    "## GAIN imputation"
   ]
  },
  {
   "cell_type": "code",
   "execution_count": 13,
   "metadata": {},
   "outputs": [
    {
     "name": "stdout",
     "output_type": "stream",
     "text": [
      "Evaluation result contains 1 target columns: V4\n",
      "All are in a round-robin fashion imputed and performances are as follows:\n",
      "\n",
      "Target Column: V4 - Necessary train time in seconds: 49.6354\n",
      "                train      test\n",
      "F1_micro     0.837011  0.823910\n",
      "F1_macro     0.489580  0.482837\n",
      "F1_weighted  0.768530  0.750427\n",
      "\n",
      "             baseline  corrupted   imputed\n",
      "F1_micro     0.714916   0.699029  0.700500\n",
      "F1_macro     0.424069   0.415572  0.381183\n",
      "F1_weighted  0.697985   0.685549  0.680522\n",
      "\n",
      "\n",
      "CPU times: user 1min 17s, sys: 22.6 s, total: 1min 40s\n",
      "Wall time: 50.5 s\n"
     ]
    }
   ],
   "source": [
    "arguments = {\n",
    "    \"seed\": seed,\n",
    "    \"hyperparameter_grid\": {\n",
    "        \"gain\": {\n",
    "            \"alpha\": [0.1, 1, 10],\n",
    "            \"hint_rate\": [0.7, 0.9],\n",
    "        },\n",
    "        \"generator\": {\n",
    "            \"learning_rate\": [0.0001],\n",
    "        },\n",
    "        \"discriminator\": {\n",
    "            \"learning_rate\": [0.00001],\n",
    "        }\n",
    "    }\n",
    "}\n",
    "\n",
    "%time SingleColumnEvaluator(task, 0.5, \"MCAR\", target_columns[1], GAINImputer, arguments).evaluate(3).report()"
   ]
  },
  {
   "cell_type": "code",
   "execution_count": null,
   "metadata": {},
   "outputs": [],
   "source": []
  }
 ],
 "metadata": {
  "kernelspec": {
   "display_name": "Python 3",
   "language": "python",
   "name": "python3"
  },
  "language_info": {
   "codemirror_mode": {
    "name": "ipython",
    "version": 3
   },
   "file_extension": ".py",
   "mimetype": "text/x-python",
   "name": "python",
   "nbconvert_exporter": "python",
   "pygments_lexer": "ipython3",
   "version": "3.8.8"
  }
 },
 "nbformat": 4,
 "nbformat_minor": 4
}

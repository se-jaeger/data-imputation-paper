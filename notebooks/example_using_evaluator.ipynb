{
 "cells": [
  {
   "cell_type": "code",
   "execution_count": 1,
   "metadata": {},
   "outputs": [],
   "source": [
    "from jenga.tasks.openml import OpenMLTask\n",
    "from jenga.corruptions.generic import MissingValues\n",
    "    \n",
    "import pandas as pd\n",
    "import numpy as np\n",
    "\n",
    "from data_imputation_paper.imputation.simple import ModeImputer\n",
    "from data_imputation_paper.imputation.ml import KNNImputer, ForestImputer\n",
    "from data_imputation_paper.imputation.generative import GAINImputer\n",
    "from data_imputation_paper.evaluation import Evaluator"
   ]
  },
  {
   "cell_type": "markdown",
   "metadata": {},
   "source": [
    "## Make Deterministic"
   ]
  },
  {
   "cell_type": "code",
   "execution_count": 2,
   "metadata": {},
   "outputs": [],
   "source": [
    "seed = 42"
   ]
  },
  {
   "cell_type": "markdown",
   "metadata": {},
   "source": [
    "## Create example tasks"
   ]
  },
  {
   "cell_type": "code",
   "execution_count": 3,
   "metadata": {},
   "outputs": [
    {
     "name": "stdout",
     "output_type": "stream",
     "text": [
      "Found 14 categorical columns: ['V1', 'V3', 'V4', 'V5', 'V6', 'V7', 'V8', 'V9', 'V10', 'V11', 'V12', 'V13', 'V14', 'V15']\n",
      "Found 2 numeric columns: ['V2', 'V16']\n"
     ]
    }
   ],
   "source": [
    "task = OpenMLTask(seed=seed, openml_id=4552)\n",
    "\n",
    "if task.contains_missing_values():\n",
    "    raise ValueError(\"This would distort the evaluation because we wouldn't have a full ground truth.\")"
   ]
  },
  {
   "cell_type": "markdown",
   "metadata": {},
   "source": [
    "## Insert missing values using jenga"
   ]
  },
  {
   "cell_type": "code",
   "execution_count": 4,
   "metadata": {},
   "outputs": [],
   "source": [
    "missing_values = [\n",
    "    MissingValues(column='V2', fraction=0.5, na_value=np.nan, missingness='MCAR'),\n",
    "    MissingValues(column='V4', fraction=0.5, na_value=np.nan, missingness='MCAR'),\n",
    "    MissingValues(column='V15', fraction=0.5, na_value=np.nan, missingness='MCAR')\n",
    "]"
   ]
  },
  {
   "cell_type": "markdown",
   "metadata": {},
   "source": [
    "## Mode Imputation"
   ]
  },
  {
   "cell_type": "code",
   "execution_count": 5,
   "metadata": {},
   "outputs": [
    {
     "name": "stdout",
     "output_type": "stream",
     "text": [
      "Evaluation result contains 3 target columns: V2, V4, V15\n",
      "All are in a round-robin fashion imputed and performances are as follows:\n",
      "\n",
      "Target Column: V2\n",
      "            train         test\n",
      "MAE     29.554985    30.403800\n",
      "MSE   1413.742635  1506.081031\n",
      "RMSE    37.599769    38.808260\n",
      "\n",
      "Target Column: V4\n",
      "                train      test\n",
      "F1_micro     0.840688  0.849823\n",
      "F1_macro     0.456725  0.459408\n",
      "F1_weighted  0.767927  0.780831\n",
      "\n",
      "Target Column: V15\n",
      "                train      test\n",
      "F1_micro     0.112533  0.127208\n",
      "F1_macro     0.012644  0.014107\n",
      "F1_weighted  0.022766  0.028712\n",
      "\n"
     ]
    }
   ],
   "source": [
    "arguments = {\"seed\": seed}\n",
    "Evaluator(task, missing_values, ModeImputer, arguments).evaluate(10).report()"
   ]
  },
  {
   "cell_type": "markdown",
   "metadata": {},
   "source": [
    "## KNN imputation"
   ]
  },
  {
   "cell_type": "code",
   "execution_count": 6,
   "metadata": {},
   "outputs": [
    {
     "name": "stdout",
     "output_type": "stream",
     "text": [
      "Evaluation result contains 3 target columns: V2, V4, V15\n",
      "All are in a round-robin fashion imputed and performances are as follows:\n",
      "\n",
      "Target Column: V2\n",
      "            train         test\n",
      "MAE     30.389409    32.458657\n",
      "MSE   1524.339806  1729.086643\n",
      "RMSE    39.042795    41.582288\n",
      "\n",
      "Target Column: V4\n",
      "                train      test\n",
      "F1_micro     0.938658  0.936396\n",
      "F1_macro     0.881044  0.872933\n",
      "F1_weighted  0.937453  0.935761\n",
      "\n",
      "Target Column: V15\n",
      "                train      test\n",
      "F1_micro     0.518535  0.485866\n",
      "F1_macro     0.432207  0.384204\n",
      "F1_weighted  0.511027  0.473731\n",
      "\n"
     ]
    }
   ],
   "source": [
    "arguments = {\"seed\": seed}\n",
    "Evaluator(task, missing_values, KNNImputer, arguments).evaluate(5).report()"
   ]
  },
  {
   "cell_type": "markdown",
   "metadata": {},
   "source": [
    "## Forest imputation"
   ]
  },
  {
   "cell_type": "code",
   "execution_count": 7,
   "metadata": {},
   "outputs": [
    {
     "name": "stdout",
     "output_type": "stream",
     "text": [
      "Evaluation result contains 3 target columns: V2, V4, V15\n",
      "All are in a round-robin fashion imputed and performances are as follows:\n",
      "\n",
      "Target Column: V2\n",
      "            train         test\n",
      "MAE     28.093496    29.143869\n",
      "MSE   1286.917883  1351.793330\n",
      "RMSE    35.873530    36.765395\n",
      "\n",
      "Target Column: V4\n",
      "                train      test\n",
      "F1_micro     0.953663  0.946996\n",
      "F1_macro     0.913213  0.897166\n",
      "F1_weighted  0.952800  0.945985\n",
      "\n",
      "Target Column: V15\n",
      "                train      test\n",
      "F1_micro     0.552074  0.544170\n",
      "F1_macro     0.462944  0.444690\n",
      "F1_weighted  0.544525  0.536913\n",
      "\n"
     ]
    }
   ],
   "source": [
    "arguments = {\"seed\": seed}\n",
    "Evaluator(task, missing_values, ForestImputer, arguments).evaluate(5).report()"
   ]
  },
  {
   "cell_type": "markdown",
   "metadata": {},
   "source": [
    "## GAIN imputation"
   ]
  },
  {
   "cell_type": "code",
   "execution_count": 8,
   "metadata": {},
   "outputs": [
    {
     "name": "stdout",
     "output_type": "stream",
     "text": [
      "Evaluation result contains 3 target columns: V2, V4, V15\n",
      "All are in a round-robin fashion imputed and performances are as follows:\n",
      "\n",
      "Target Column: V2\n",
      "            train         test\n",
      "MAE     33.522245    33.531434\n",
      "MSE   1819.102196  1898.661046\n",
      "RMSE    42.633235    43.573267\n",
      "\n",
      "Target Column: V4\n",
      "                train      test\n",
      "F1_micro     0.849515  0.858657\n",
      "F1_macro     0.603442  0.652388\n",
      "F1_weighted  0.811604  0.826487\n",
      "\n",
      "Target Column: V15\n",
      "                train      test\n",
      "F1_micro     0.062665  0.088339\n",
      "F1_macro     0.039868  0.052819\n",
      "F1_weighted  0.055257  0.078645\n",
      "\n"
     ]
    }
   ],
   "source": [
    "arguments = {\n",
    "    \"num_data_columns\": task.train_data.shape[1],\n",
    "    \"seed\": seed\n",
    "}\n",
    "Evaluator(task, missing_values, GAINImputer, arguments).evaluate(3).report()"
   ]
  },
  {
   "cell_type": "code",
   "execution_count": null,
   "metadata": {},
   "outputs": [],
   "source": []
  }
 ],
 "metadata": {
  "kernelspec": {
   "display_name": "Python 3",
   "language": "python",
   "name": "python3"
  },
  "language_info": {
   "codemirror_mode": {
    "name": "ipython",
    "version": 3
   },
   "file_extension": ".py",
   "mimetype": "text/x-python",
   "name": "python",
   "nbconvert_exporter": "python",
   "pygments_lexer": "ipython3",
   "version": "3.8.5"
  }
 },
 "nbformat": 4,
 "nbformat_minor": 4
}

{
 "cells": [
  {
   "cell_type": "code",
   "execution_count": 1,
   "metadata": {},
   "outputs": [],
   "source": [
    "from jenga.tasks.openml import OpenMLBinaryClassificationTask, OpenMLMultiClassClassificationTask, OpenMLRegressionTask\n",
    "    \n",
    "import pandas as pd\n",
    "import numpy as np\n",
    "\n",
    "from data_imputation_paper.imputation.simple import ModeImputer\n",
    "from data_imputation_paper.imputation.ml import KNNImputer, ForestImputer\n",
    "from data_imputation_paper.imputation.dl import AutoKerasImputer\n",
    "from data_imputation_paper.imputation.generative import GAINImputer, VAEImputer\n",
    "from data_imputation_paper.evaluation import SingleColumnEvaluator, MultipleColumnsEvaluator, SingleColumnAllMissingEvaluator, MultipleColumnsAllMissingEvaluator\n",
    "\n",
    "%load_ext autoreload\n",
    "%autoreload 2"
   ]
  },
  {
   "cell_type": "markdown",
   "metadata": {},
   "source": [
    "## Make Deterministic"
   ]
  },
  {
   "cell_type": "code",
   "execution_count": 2,
   "metadata": {},
   "outputs": [],
   "source": [
    "seed = 42"
   ]
  },
  {
   "cell_type": "markdown",
   "metadata": {},
   "source": [
    "## Create example tasks"
   ]
  },
  {
   "cell_type": "code",
   "execution_count": 3,
   "metadata": {},
   "outputs": [],
   "source": [
    "task = OpenMLMultiClassClassificationTask(openml_id=4552, seed=seed)"
   ]
  },
  {
   "cell_type": "markdown",
   "metadata": {},
   "source": [
    "## Insert missing values using jenga"
   ]
  },
  {
   "cell_type": "code",
   "execution_count": 4,
   "metadata": {},
   "outputs": [],
   "source": [
    "target_columns = ['V2', 'V4', 'V8', 'V15']"
   ]
  },
  {
   "cell_type": "markdown",
   "metadata": {},
   "source": [
    "## Mode Imputation"
   ]
  },
  {
   "cell_type": "code",
   "execution_count": 5,
   "metadata": {},
   "outputs": [
    {
     "name": "stdout",
     "output_type": "stream",
     "text": [
      "Evaluation result contains 1 target columns: V2\n",
      "All are in a round-robin fashion imputed and performances are as follows:\n",
      "\n",
      "Target Column: V2 - Necessary train time in seconds: 0.0009\n",
      "            train         test\n",
      "MAE     29.534246    29.329695\n",
      "MSE   1382.765079  1395.011245\n",
      "RMSE    37.182935    37.339889\n",
      "\n",
      "             baseline  corrupted   imputed\n",
      "F1_micro     0.729038   0.729038  0.729038\n",
      "F1_macro     0.443047   0.432501  0.432501\n",
      "F1_weighted  0.732119   0.731751  0.731751\n",
      "\n",
      "\n",
      "CPU times: user 2.38 s, sys: 138 ms, total: 2.52 s\n",
      "Wall time: 3.91 s\n"
     ]
    }
   ],
   "source": [
    "arguments = {\n",
    "    \"seed\": seed\n",
    "}\n",
    "\n",
    "%time SingleColumnEvaluator(task, 0.5, \"MCAR\", target_columns[0], ModeImputer, arguments).evaluate(3).report()"
   ]
  },
  {
   "cell_type": "code",
   "execution_count": 6,
   "metadata": {},
   "outputs": [
    {
     "name": "stdout",
     "output_type": "stream",
     "text": [
      "Evaluation result contains 2 target columns: V2, V4\n",
      "All are in a round-robin fashion imputed and performances are as follows:\n",
      "\n",
      "Target Column: V2 - Necessary train time in seconds: 0.0009\n",
      "            train         test\n",
      "MAE     29.920306    28.966446\n",
      "MSE   1426.373567  1385.846668\n",
      "RMSE    37.763419    37.226873\n",
      "\n",
      "             baseline  corrupted   imputed\n",
      "F1_micro     0.729038   0.721389  0.721389\n",
      "F1_macro     0.443047   0.431010  0.431010\n",
      "F1_weighted  0.732119   0.723656  0.723656\n",
      "\n",
      "\n",
      "Target Column: V4 - Necessary train time in seconds: 0.0012\n",
      "                train      test\n",
      "F1_micro     0.829067  0.842167\n",
      "F1_macro     0.453269  0.457155\n",
      "F1_weighted  0.751597  0.770024\n",
      "\n",
      "             baseline  corrupted   imputed\n",
      "F1_micro     0.729038   0.723448  0.723448\n",
      "F1_macro     0.443047   0.418190  0.418190\n",
      "F1_weighted  0.732119   0.725510  0.725510\n",
      "\n",
      "\n",
      "CPU times: user 731 ms, sys: 14.3 ms, total: 745 ms\n",
      "Wall time: 747 ms\n"
     ]
    }
   ],
   "source": [
    "arguments = {\n",
    "    \"seed\": seed\n",
    "}\n",
    "\n",
    "%time MultipleColumnsEvaluator(task, 0.5, \"MCAR\", target_columns[:2], ModeImputer, arguments).evaluate(3).report()"
   ]
  },
  {
   "cell_type": "code",
   "execution_count": 7,
   "metadata": {},
   "outputs": [
    {
     "name": "stdout",
     "output_type": "stream",
     "text": [
      "Evaluation result contains 1 target columns: V15\n",
      "All are in a round-robin fashion imputed and performances are as follows:\n",
      "\n",
      "Target Column: V15 - Necessary train time in seconds: 0.0009\n",
      "                train      test\n",
      "F1_micro     0.120567  0.114286\n",
      "F1_macro     0.015002  0.019373\n",
      "F1_weighted  0.026938  0.023443\n",
      "\n",
      "             baseline  corrupted   imputed\n",
      "F1_micro     0.729038   0.701971  0.701971\n",
      "F1_macro     0.443047   0.432568  0.432568\n",
      "F1_weighted  0.732119   0.704395  0.704395\n",
      "\n",
      "\n",
      "CPU times: user 426 ms, sys: 4.85 ms, total: 431 ms\n",
      "Wall time: 431 ms\n"
     ]
    }
   ],
   "source": [
    "arguments = {\n",
    "    \"seed\": seed\n",
    "}\n",
    "\n",
    "%time SingleColumnAllMissingEvaluator(task, 0.5, \"MCAR\", target_columns[-1], ModeImputer, arguments).evaluate(3).report()"
   ]
  },
  {
   "cell_type": "code",
   "execution_count": 8,
   "metadata": {},
   "outputs": [
    {
     "name": "stdout",
     "output_type": "stream",
     "text": [
      "Evaluation result contains 2 target columns: V8, V15\n",
      "All are in a round-robin fashion imputed and performances are as follows:\n",
      "\n",
      "Target Column: V8 - Necessary train time in seconds: 0.001\n",
      "                train      test\n",
      "F1_micro     0.787234  0.761905\n",
      "F1_macro     0.440313  0.431796\n",
      "F1_weighted  0.693841  0.660217\n",
      "\n",
      "             baseline  corrupted   imputed\n",
      "F1_micro     0.729038   0.701971  0.701971\n",
      "F1_macro     0.443047   0.432568  0.432568\n",
      "F1_weighted  0.732119   0.704395  0.704395\n",
      "\n",
      "\n",
      "Target Column: V15 - Necessary train time in seconds: 0.001\n",
      "                train      test\n",
      "F1_micro     0.118203  0.085714\n",
      "F1_macro     0.014738  0.013557\n",
      "F1_weighted  0.025295  0.013534\n",
      "\n",
      "             baseline  corrupted   imputed\n",
      "F1_micro     0.729038   0.700206  0.700206\n",
      "F1_macro     0.443047   0.420314  0.420314\n",
      "F1_weighted  0.732119   0.702995  0.702995\n",
      "\n",
      "\n",
      "CPU times: user 916 ms, sys: 13.3 ms, total: 929 ms\n",
      "Wall time: 932 ms\n"
     ]
    }
   ],
   "source": [
    "arguments = {\n",
    "    \"seed\": seed\n",
    "}\n",
    "\n",
    "%time MultipleColumnsAllMissingEvaluator(task, 0.5, \"MCAR\", target_columns[2:], ModeImputer, arguments).evaluate(3).report()"
   ]
  },
  {
   "cell_type": "markdown",
   "metadata": {},
   "source": [
    "## KNN imputation"
   ]
  },
  {
   "cell_type": "code",
   "execution_count": 9,
   "metadata": {},
   "outputs": [
    {
     "name": "stdout",
     "output_type": "stream",
     "text": [
      "Evaluation result contains 4 target columns: V2, V4, V8, V15\n",
      "All are in a round-robin fashion imputed and performances are as follows:\n",
      "\n",
      "Target Column: V2 - Necessary train time in seconds: 0.6004\n",
      "            train         test\n",
      "MAE     23.897400    30.668571\n",
      "MSE   1048.574657  1671.436571\n",
      "RMSE    32.364484    40.819010\n",
      "\n",
      "             baseline  corrupted   imputed\n",
      "F1_micro     0.729038   0.701971  0.701677\n",
      "F1_macro     0.443047   0.432568  0.432445\n",
      "F1_weighted  0.732119   0.704395  0.704211\n",
      "\n",
      "\n",
      "Target Column: V4 - Necessary train time in seconds: 0.6781\n",
      "                train      test\n",
      "F1_micro     0.964539  0.933333\n",
      "F1_macro     0.926341  0.815358\n",
      "F1_weighted  0.963794  0.926863\n",
      "\n",
      "             baseline  corrupted   imputed\n",
      "F1_micro     0.729038   0.700206  0.701089\n",
      "F1_macro     0.443047   0.420314  0.422655\n",
      "F1_weighted  0.732119   0.702995  0.704136\n",
      "\n",
      "\n",
      "Target Column: V8 - Necessary train time in seconds: 0.5943\n",
      "                train      test\n",
      "F1_micro     0.962175  0.952381\n",
      "F1_macro     0.944703  0.907555\n",
      "F1_weighted  0.961818  0.948229\n",
      "\n",
      "             baseline  corrupted   imputed\n",
      "F1_micro     0.729038   0.704619  0.704913\n",
      "F1_macro     0.443047   0.421771  0.422128\n",
      "F1_weighted  0.732119   0.706811  0.707159\n",
      "\n",
      "\n",
      "Target Column: V15 - Necessary train time in seconds: 0.6174\n",
      "                train      test\n",
      "F1_micro     0.687943  0.380952\n",
      "F1_macro     0.610782  0.292014\n",
      "F1_weighted  0.684768  0.373143\n",
      "\n",
      "             baseline  corrupted   imputed\n",
      "F1_micro     0.729038   0.697264  0.700500\n",
      "F1_macro     0.443047   0.414296  0.418658\n",
      "F1_weighted  0.732119   0.697181  0.700799\n",
      "\n",
      "\n",
      "CPU times: user 12.1 s, sys: 1.99 s, total: 14.1 s\n",
      "Wall time: 9.87 s\n"
     ]
    }
   ],
   "source": [
    "arguments = {\n",
    "    \"seed\": seed,\n",
    "    \"hyperparameter_grid_categorical_imputer\": {\n",
    "        \"n_neighbors\": [3, 5]\n",
    "    },\n",
    "    \"hyperparameter_grid_numerical_imputer\": {\n",
    "        \"n_neighbors\": [3, 5]\n",
    "    }\n",
    "}\n",
    "\n",
    "%time MultipleColumnsAllMissingEvaluator(task, 0.5, \"MCAR\", target_columns, KNNImputer, arguments).evaluate(3).report()"
   ]
  },
  {
   "cell_type": "markdown",
   "metadata": {},
   "source": [
    "## Forest imputation"
   ]
  },
  {
   "cell_type": "code",
   "execution_count": 10,
   "metadata": {},
   "outputs": [
    {
     "name": "stdout",
     "output_type": "stream",
     "text": [
      "Evaluation result contains 4 target columns: V2, V4, V8, V15\n",
      "All are in a round-robin fashion imputed and performances are as follows:\n",
      "\n",
      "Target Column: V2 - Necessary train time in seconds: 4.1498\n",
      "           train         test\n",
      "MAE    18.222446    31.471091\n",
      "MSE   704.123501  1515.773382\n",
      "RMSE   26.510395    38.788418\n",
      "\n",
      "             baseline  corrupted   imputed\n",
      "F1_micro     0.729038   0.702265  0.701971\n",
      "F1_macro     0.443047   0.427093  0.426165\n",
      "F1_weighted  0.732119   0.703904  0.703498\n",
      "\n",
      "\n",
      "Target Column: V4 - Necessary train time in seconds: 0.9897\n",
      "                train      test\n",
      "F1_micro     0.983452  0.961905\n",
      "F1_macro     0.946292  0.865853\n",
      "F1_weighted  0.984611  0.970422\n",
      "\n",
      "             baseline  corrupted   imputed\n",
      "F1_micro     0.729038   0.700206  0.700794\n",
      "F1_macro     0.443047   0.423017  0.423775\n",
      "F1_weighted  0.732119   0.702965  0.703729\n",
      "\n",
      "\n",
      "Target Column: V8 - Necessary train time in seconds: 0.9636\n",
      "                train      test\n",
      "F1_micro     0.985816  0.961905\n",
      "F1_macro     0.979314  0.931349\n",
      "F1_weighted  0.985925  0.960317\n",
      "\n",
      "             baseline  corrupted   imputed\n",
      "F1_micro     0.729038   0.700500  0.700794\n",
      "F1_macro     0.443047   0.417917  0.419733\n",
      "F1_weighted  0.732119   0.703569  0.704074\n",
      "\n",
      "\n",
      "Target Column: V15 - Necessary train time in seconds: 1.2645\n",
      "                train      test\n",
      "F1_micro     0.943262  0.609524\n",
      "F1_macro     0.950149  0.443413\n",
      "F1_weighted  0.942809  0.590959\n",
      "\n",
      "             baseline  corrupted   imputed\n",
      "F1_micro     0.729038   0.704619  0.707561\n",
      "F1_macro     0.443047   0.421914  0.421373\n",
      "F1_weighted  0.732119   0.707758  0.710740\n",
      "\n",
      "\n",
      "CPU times: user 24.2 s, sys: 1.04 s, total: 25.2 s\n",
      "Wall time: 24.4 s\n"
     ]
    }
   ],
   "source": [
    "arguments = {\n",
    "    \"seed\": seed,\n",
    "    \"hyperparameter_grid_categorical_imputer\": {\n",
    "        \"n_estimators\": [50, 100]\n",
    "    },\n",
    "    \"hyperparameter_grid_numerical_imputer\": {\n",
    "        \"n_estimators\": [50, 100]\n",
    "    }\n",
    "}\n",
    "\n",
    "%time MultipleColumnsAllMissingEvaluator(task, 0.5, \"MCAR\", target_columns, ForestImputer, arguments).evaluate(3).report()"
   ]
  },
  {
   "cell_type": "markdown",
   "metadata": {},
   "source": [
    "## AutoKeras imputation"
   ]
  },
  {
   "cell_type": "code",
   "execution_count": 11,
   "metadata": {},
   "outputs": [
    {
     "name": "stdout",
     "output_type": "stream",
     "text": [
      "Trial 2 Complete [00h 00m 02s]\n",
      "val_accuracy: 0.831447958946228\n",
      "\n",
      "Best val_accuracy So Far: 0.831447958946228\n",
      "Total elapsed time: 00h 00m 04s\n",
      "Epoch 1/2\n",
      "142/142 [==============================] - 0s 984us/step - loss: 1.4870 - accuracy: 0.6682\n",
      "Epoch 2/2\n",
      "142/142 [==============================] - 0s 976us/step - loss: 0.4536 - accuracy: 0.8356\n",
      "Evaluation result contains 1 target columns: V4\n",
      "All are in a round-robin fashion imputed and performances are as follows:\n",
      "\n",
      "Target Column: V4 - Necessary train time in seconds: 10.31\n",
      "                train      test\n",
      "F1_micro     0.976190  0.642857\n",
      "F1_macro     0.660578  0.493827\n",
      "F1_weighted  0.987823  0.654321\n",
      "\n",
      "             baseline  corrupted   imputed\n",
      "F1_micro     0.729038   0.715799  0.715799\n",
      "F1_macro     0.443047   0.432783  0.432779\n",
      "F1_weighted  0.732119   0.717499  0.717520\n",
      "\n",
      "\n",
      "CPU times: user 38.2 s, sys: 2.72 s, total: 40.9 s\n",
      "Wall time: 36.3 s\n"
     ]
    }
   ],
   "source": [
    "arguments = {\n",
    "    \"seed\": seed,\n",
    "    'max_trials': 2,\n",
    "    'tuner': 'greedy',\n",
    "    'validation_split': 0.1,\n",
    "    'epochs': 2\n",
    "}\n",
    "\n",
    "%time SingleColumnAllMissingEvaluator(task, 0.2, \"MNAR\", target_columns[1], AutoKerasImputer, arguments).evaluate(3).report()"
   ]
  },
  {
   "cell_type": "markdown",
   "metadata": {},
   "source": [
    "## VAE imputation"
   ]
  },
  {
   "cell_type": "code",
   "execution_count": 12,
   "metadata": {},
   "outputs": [
    {
     "name": "stdout",
     "output_type": "stream",
     "text": [
      "Trial 2 Complete [00h 00m 02s]\n",
      "val_accuracy: 0.43325790762901306\n",
      "\n",
      "Best val_accuracy So Far: 0.5124434232711792\n",
      "Total elapsed time: 00h 00m 05s\n",
      "Epoch 1/2\n",
      "142/142 [==============================] - 0s 961us/step - loss: 2.5075 - accuracy: 0.2142\n",
      "Epoch 2/2\n",
      "142/142 [==============================] - 0s 962us/step - loss: 1.6149 - accuracy: 0.4737\n",
      "Evaluation result contains 4 target columns: V2, V4, V8, V15\n",
      "All are in a round-robin fashion imputed and performances are as follows:\n",
      "\n",
      "Target Column: V2 - Necessary train time in seconds: 9.0171\n",
      "            train         test\n",
      "MAE     27.895165    31.321839\n",
      "MSE   1205.543670  1552.634940\n",
      "RMSE    34.717389    39.317011\n",
      "\n",
      "             baseline  corrupted   imputed\n",
      "F1_micro     0.729038   0.701971  0.701677\n",
      "F1_macro     0.443047   0.432568  0.432445\n",
      "F1_weighted  0.732119   0.704395  0.704211\n",
      "\n",
      "\n",
      "Target Column: V4 - Necessary train time in seconds: 10.1188\n",
      "                train      test\n",
      "F1_micro     0.933806  0.904762\n",
      "F1_macro     0.870755  0.761982\n",
      "F1_weighted  0.934826  0.900628\n",
      "\n",
      "             baseline  corrupted   imputed\n",
      "F1_micro     0.729038   0.700500  0.700500\n",
      "F1_macro     0.443047   0.419817  0.420398\n",
      "F1_weighted  0.732119   0.703198  0.703359\n",
      "\n",
      "\n",
      "Target Column: V8 - Necessary train time in seconds: 10.1887\n",
      "                train      test\n",
      "F1_micro     0.905437  0.866667\n",
      "F1_macro     0.872019  0.823587\n",
      "F1_weighted  0.907228  0.875878\n",
      "\n",
      "             baseline  corrupted   imputed\n",
      "F1_micro     0.729038   0.705502  0.704031\n",
      "F1_macro     0.443047   0.423470  0.419411\n",
      "F1_weighted  0.732119   0.707679  0.706109\n",
      "\n",
      "\n",
      "Target Column: V15 - Necessary train time in seconds: 10.5427\n",
      "                train      test\n",
      "F1_micro     0.482270  0.409524\n",
      "F1_macro     0.375299  0.382083\n",
      "F1_weighted  0.464770  0.399214\n",
      "\n",
      "             baseline  corrupted   imputed\n",
      "F1_micro     0.729038   0.698441  0.701089\n",
      "F1_macro     0.443047   0.418898  0.419382\n",
      "F1_weighted  0.732119   0.698714  0.700855\n",
      "\n",
      "\n",
      "CPU times: user 2min 31s, sys: 9.54 s, total: 2min 41s\n",
      "Wall time: 2min 21s\n"
     ]
    }
   ],
   "source": [
    "arguments = {\n",
    "    \"seed\": seed,\n",
    "    'max_trials': 2,\n",
    "    'tuner': None,\n",
    "    'validation_split': 0.1,\n",
    "    'epochs': 2\n",
    "}\n",
    "\n",
    "%time MultipleColumnsAllMissingEvaluator(task, 0.5, \"MCAR\", target_columns, AutoKerasImputer, arguments).evaluate(3).report()"
   ]
  },
  {
   "cell_type": "markdown",
   "metadata": {},
   "source": [
    "## GAIN imputation"
   ]
  },
  {
   "cell_type": "code",
   "execution_count": 13,
   "metadata": {},
   "outputs": [
    {
     "name": "stdout",
     "output_type": "stream",
     "text": [
      "Evaluation result contains 4 target columns: V2, V4, V8, V15\n",
      "All are in a round-robin fashion imputed and performances are as follows:\n",
      "\n",
      "Target Column: V2 - Necessary train time in seconds: 64.1294\n",
      "            train         test\n",
      "MAE     36.224380    36.531204\n",
      "MSE   2085.301528  1973.905786\n",
      "RMSE    45.543494    44.367411\n",
      "\n",
      "             baseline  corrupted   imputed\n",
      "F1_micro     0.729038   0.697852  0.697852\n",
      "F1_macro     0.443047   0.418050  0.421731\n",
      "F1_weighted  0.732119   0.700929  0.700929\n",
      "\n",
      "\n",
      "Target Column: V4 - Necessary train time in seconds: 68.0043\n",
      "                train      test\n",
      "F1_micro     0.839243  0.819048\n",
      "F1_macro     0.456177  0.450231\n",
      "F1_weighted  0.766133  0.737632\n",
      "\n",
      "             baseline  corrupted   imputed\n",
      "F1_micro     0.729038   0.700794  0.700794\n",
      "F1_macro     0.443047   0.412708  0.412708\n",
      "F1_weighted  0.732119   0.701845  0.701845\n",
      "\n",
      "\n",
      "Target Column: V8 - Necessary train time in seconds: 73.4543\n",
      "                train      test\n",
      "F1_micro     0.780142  0.761905\n",
      "F1_macro     0.449098  0.431516\n",
      "F1_weighted  0.698213  0.660778\n",
      "\n",
      "             baseline  corrupted   imputed\n",
      "F1_micro     0.729038   0.699323  0.699323\n",
      "F1_macro     0.443047   0.410581  0.410581\n",
      "F1_weighted  0.732119   0.702296  0.702296\n",
      "\n",
      "\n",
      "Target Column: V15 - Necessary train time in seconds: 69.7248\n",
      "                train      test\n",
      "F1_micro     0.075650  0.047619\n",
      "F1_macro     0.031151  0.015930\n",
      "F1_weighted  0.031341  0.026259\n",
      "\n",
      "             baseline  corrupted   imputed\n",
      "F1_micro     0.729038   0.702854  0.704619\n",
      "F1_macro     0.443047   0.413327  0.412299\n",
      "F1_weighted  0.732119   0.702019  0.703504\n",
      "\n",
      "\n",
      "CPU times: user 18min 10s, sys: 3min 15s, total: 21min 26s\n",
      "Wall time: 13min 49s\n"
     ]
    }
   ],
   "source": [
    "arguments = {\n",
    "    \"seed\": seed,\n",
    "    \"hyperparameter_grid\": {\n",
    "        \"gain\": {\n",
    "            \"alpha\": [50, 100],\n",
    "            \"hint_rate\": [0.7, 0.9],\n",
    "        },\n",
    "        \"training\": {\n",
    "            \"epochs\": [5, 15]\n",
    "        }\n",
    "    }\n",
    "}\n",
    "\n",
    "%time MultipleColumnsAllMissingEvaluator(task, 0.5, \"MCAR\", target_columns, GAINImputer, arguments).evaluate(3).report()"
   ]
  }
 ],
 "metadata": {
  "kernelspec": {
   "display_name": "Python 3",
   "language": "python",
   "name": "python3"
  },
  "language_info": {
   "codemirror_mode": {
    "name": "ipython",
    "version": 3
   },
   "file_extension": ".py",
   "mimetype": "text/x-python",
   "name": "python",
   "nbconvert_exporter": "python",
   "pygments_lexer": "ipython3",
   "version": "3.8.8"
  }
 },
 "nbformat": 4,
 "nbformat_minor": 4
}

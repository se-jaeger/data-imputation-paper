{
 "cells": [
  {
   "cell_type": "code",
   "execution_count": 1,
   "metadata": {},
   "outputs": [],
   "source": [
    "from jenga.tasks.openml import OpenMLBinaryClassificationTask, OpenMLMultiClassClassificationTask, OpenMLRegressionTask\n",
    "    \n",
    "import pandas as pd\n",
    "import numpy as np\n",
    "\n",
    "from data_imputation_paper.imputation.simple import ModeImputer\n",
    "from data_imputation_paper.imputation.ml import KNNImputer, ForestImputer\n",
    "from data_imputation_paper.imputation.dl import AutoKerasImputer\n",
    "from data_imputation_paper.imputation.generative import GAINImputer, VAEImputer\n",
    "from data_imputation_paper.evaluation import SingleColumnEvaluator, MultipleColumnsEvaluator, SingleColumnAllMissingEvaluator, MultipleColumnsAllMissingEvaluator\n",
    "\n",
    "%load_ext autoreload\n",
    "%autoreload 2"
   ]
  },
  {
   "cell_type": "markdown",
   "metadata": {},
   "source": [
    "## Make Deterministic"
   ]
  },
  {
   "cell_type": "code",
   "execution_count": 2,
   "metadata": {},
   "outputs": [],
   "source": [
    "seed = 42"
   ]
  },
  {
   "cell_type": "markdown",
   "metadata": {},
   "source": [
    "## Create example tasks"
   ]
  },
  {
   "cell_type": "code",
   "execution_count": 3,
   "metadata": {},
   "outputs": [],
   "source": [
    "task = OpenMLMultiClassClassificationTask(openml_id=4552, seed=seed)"
   ]
  },
  {
   "cell_type": "markdown",
   "metadata": {},
   "source": [
    "## Insert missing values using jenga"
   ]
  },
  {
   "cell_type": "code",
   "execution_count": 4,
   "metadata": {},
   "outputs": [],
   "source": [
    "target_columns = ['V2', 'V4', 'V8', 'V15']"
   ]
  },
  {
   "cell_type": "markdown",
   "metadata": {},
   "source": [
    "## Mode Imputation"
   ]
  },
  {
   "cell_type": "code",
   "execution_count": null,
   "metadata": {},
   "outputs": [],
   "source": [
    "arguments = {\n",
    "    \"seed\": seed\n",
    "}\n",
    "\n",
    "%time SingleColumnEvaluator(task, 0.5, \"MCAR\", target_columns[0], ModeImputer, arguments).evaluate(3).report()"
   ]
  },
  {
   "cell_type": "code",
   "execution_count": null,
   "metadata": {},
   "outputs": [],
   "source": [
    "arguments = {\n",
    "    \"seed\": seed\n",
    "}\n",
    "\n",
    "%time MultipleColumnsEvaluator(task, 0.5, \"MCAR\", target_columns[:2], ModeImputer, arguments).evaluate(3).report()"
   ]
  },
  {
   "cell_type": "code",
   "execution_count": null,
   "metadata": {},
   "outputs": [],
   "source": [
    "arguments = {\n",
    "    \"seed\": seed\n",
    "}\n",
    "\n",
    "%time SingleColumnAllMissingEvaluator(task, 0.5, \"MCAR\", target_columns[-1], ModeImputer, arguments).evaluate(3).report()"
   ]
  },
  {
   "cell_type": "code",
   "execution_count": null,
   "metadata": {},
   "outputs": [],
   "source": [
    "arguments = {\n",
    "    \"seed\": seed\n",
    "}\n",
    "\n",
    "%time MultipleColumnsAllMissingEvaluator(task, 0.5, \"MCAR\", target_columns[2:], ModeImputer, arguments).evaluate(3).report()"
   ]
  },
  {
   "cell_type": "markdown",
   "metadata": {},
   "source": [
    "## KNN imputation"
   ]
  },
  {
   "cell_type": "code",
   "execution_count": null,
   "metadata": {},
   "outputs": [],
   "source": [
    "arguments = {\n",
    "    \"seed\": seed,\n",
    "    \"hyperparameter_grid_categorical_imputer\": {\n",
    "        \"n_neighbors\": [3, 5]\n",
    "    },\n",
    "    \"hyperparameter_grid_numerical_imputer\": {\n",
    "        \"n_neighbors\": [3, 5]\n",
    "    }\n",
    "}\n",
    "\n",
    "%time MultipleColumnsAllMissingEvaluator(task, 0.5, \"MCAR\", target_columns, KNNImputer, arguments).evaluate(3).report()"
   ]
  },
  {
   "cell_type": "markdown",
   "metadata": {},
   "source": [
    "## Forest imputation"
   ]
  },
  {
   "cell_type": "code",
   "execution_count": 42,
   "metadata": {},
   "outputs": [
    {
     "name": "stdout",
     "output_type": "stream",
     "text": [
      "Evaluation result contains 4 target columns: V2, V4, V8, V15\n",
      "All are in a round-robin fashion imputed and performances are as follows:\n",
      "\n",
      "Target Column: V2 - Necessary train time in seconds: 8.1952\n",
      "           train         test\n",
      "MAE    19.198786    30.260443\n",
      "MSE   854.300856  1516.824269\n",
      "RMSE   28.924081    38.789983\n",
      "\n",
      "             baseline  corrupted   imputed\n",
      "F1_micro     0.737864   0.710503  0.710797\n",
      "F1_macro     0.355802   0.328961  0.329345\n",
      "F1_weighted  0.722304   0.694288  0.694682\n",
      "\n",
      "\n",
      "Target Column: V4 - Necessary train time in seconds: 1.7107\n",
      "                train      test\n",
      "F1_micro     0.988180  0.942857\n",
      "F1_macro     0.980633  0.883160\n",
      "F1_weighted  0.988334  0.941274\n",
      "\n",
      "             baseline  corrupted   imputed\n",
      "F1_micro     0.737864   0.714916  0.714034\n",
      "F1_macro     0.355802   0.340967  0.340999\n",
      "F1_weighted  0.722304   0.699270  0.698517\n",
      "\n",
      "\n",
      "Target Column: V8 - Necessary train time in seconds: 1.8287\n",
      "                train      test\n",
      "F1_micro     0.981087  0.933333\n",
      "F1_macro     0.970960  0.872432\n",
      "F1_weighted  0.981334  0.928403\n",
      "\n",
      "             baseline  corrupted   imputed\n",
      "F1_micro     0.737864   0.715505  0.716093\n",
      "F1_macro     0.355802   0.335736  0.338790\n",
      "F1_weighted  0.722304   0.698633  0.699455\n",
      "\n",
      "\n",
      "Target Column: V15 - Necessary train time in seconds: 2.2735\n",
      "                train      test\n",
      "F1_micro     0.912530  0.580952\n",
      "F1_macro     0.916777  0.469858\n",
      "F1_weighted  0.912163  0.560994\n",
      "\n",
      "             baseline  corrupted   imputed\n",
      "F1_micro     0.737864   0.714916  0.715799\n",
      "F1_macro     0.355802   0.341003  0.343474\n",
      "F1_weighted  0.722304   0.697732  0.698747\n",
      "\n",
      "\n"
     ]
    },
    {
     "data": {
      "text/plain": [
       "[{'V4': {'bootstrap': True,\n",
       "   'ccp_alpha': 0.0,\n",
       "   'class_weight': None,\n",
       "   'criterion': 'gini',\n",
       "   'max_depth': None,\n",
       "   'max_features': 'auto',\n",
       "   'max_leaf_nodes': None,\n",
       "   'max_samples': None,\n",
       "   'min_impurity_decrease': 0.0,\n",
       "   'min_impurity_split': None,\n",
       "   'min_samples_leaf': 1,\n",
       "   'min_samples_split': 2,\n",
       "   'min_weight_fraction_leaf': 0.0,\n",
       "   'n_estimators': 50,\n",
       "   'n_jobs': -1,\n",
       "   'oob_score': False,\n",
       "   'random_state': None,\n",
       "   'verbose': 0,\n",
       "   'warm_start': False}},\n",
       " {'V4': {'bootstrap': True,\n",
       "   'ccp_alpha': 0.0,\n",
       "   'class_weight': None,\n",
       "   'criterion': 'gini',\n",
       "   'max_depth': None,\n",
       "   'max_features': 'auto',\n",
       "   'max_leaf_nodes': None,\n",
       "   'max_samples': None,\n",
       "   'min_impurity_decrease': 0.0,\n",
       "   'min_impurity_split': None,\n",
       "   'min_samples_leaf': 1,\n",
       "   'min_samples_split': 2,\n",
       "   'min_weight_fraction_leaf': 0.0,\n",
       "   'n_estimators': 50,\n",
       "   'n_jobs': -1,\n",
       "   'oob_score': False,\n",
       "   'random_state': None,\n",
       "   'verbose': 0,\n",
       "   'warm_start': False}},\n",
       " {'V4': {'bootstrap': True,\n",
       "   'ccp_alpha': 0.0,\n",
       "   'class_weight': None,\n",
       "   'criterion': 'gini',\n",
       "   'max_depth': None,\n",
       "   'max_features': 'auto',\n",
       "   'max_leaf_nodes': None,\n",
       "   'max_samples': None,\n",
       "   'min_impurity_decrease': 0.0,\n",
       "   'min_impurity_split': None,\n",
       "   'min_samples_leaf': 1,\n",
       "   'min_samples_split': 2,\n",
       "   'min_weight_fraction_leaf': 0.0,\n",
       "   'n_estimators': 50,\n",
       "   'n_jobs': -1,\n",
       "   'oob_score': False,\n",
       "   'random_state': None,\n",
       "   'verbose': 0,\n",
       "   'warm_start': False}}]"
      ]
     },
     "execution_count": 42,
     "metadata": {},
     "output_type": "execute_result"
    }
   ],
   "source": [
    "arguments = {\n",
    "    \"seed\": seed,\n",
    "    \"hyperparameter_grid_categorical_imputer\": {\n",
    "        \"n_estimators\": [10, 50, 100]\n",
    "    },\n",
    "    \"hyperparameter_grid_numerical_imputer\": {\n",
    "        \"n_estimators\": [10, 50, 100]\n",
    "    }\n",
    "}\n",
    "\n",
    "%time MultipleColumnsAllMissingEvaluator(task, 0.5, \"MCAR\", target_columns, ForestImputer, arguments)"
   ]
  },
  {
   "cell_type": "markdown",
   "metadata": {},
   "source": [
    "## AutoKeras imputation"
   ]
  },
  {
   "cell_type": "code",
   "execution_count": null,
   "metadata": {},
   "outputs": [],
   "source": [
    "arguments = {\n",
    "    \"seed\": seed,\n",
    "    'max_trials': 2,\n",
    "    'tuner': 'greedy',\n",
    "    'validation_split': 0.1,\n",
    "    'epochs': 2\n",
    "}\n",
    "\n",
    "%time SingleColumnAllMissingEvaluator(task, 0.2, \"MNAR\", target_columns[1], AutoKerasImputer, arguments).evaluate(3).report()"
   ]
  },
  {
   "cell_type": "markdown",
   "metadata": {},
   "source": [
    "## VAE imputation"
   ]
  },
  {
   "cell_type": "code",
   "execution_count": 9,
   "metadata": {},
   "outputs": [
    {
     "name": "stdout",
     "output_type": "stream",
     "text": [
      "Evaluation result contains 1 target columns: V4\n",
      "All are in a round-robin fashion imputed and performances are as follows:\n",
      "\n",
      "Target Column: V4 - Necessary train time in seconds: 20.8341\n",
      "                train      test\n",
      "F1_micro     0.830685  0.845112\n",
      "F1_macro     0.604045  0.594036\n",
      "F1_weighted  0.799612  0.813892\n",
      "\n",
      "             baseline  corrupted   imputed\n",
      "F1_micro     0.737864   0.728155  0.724625\n",
      "F1_macro     0.355802   0.340454  0.338239\n",
      "F1_weighted  0.722304   0.709734  0.707290\n",
      "\n",
      "\n",
      "CPU times: user 1min 20s, sys: 7.19 s, total: 1min 27s\n",
      "Wall time: 1min 3s\n"
     ]
    }
   ],
   "source": [
    "arguments = {\n",
    "    \"seed\": seed,\n",
    "    \"hyperparameter_grid\": {\n",
    "        \"optimizer\": {\n",
    "            \"learning_rate\": [0.01]\n",
    "        }\n",
    "    }\n",
    "}\n",
    "\n",
    "%time SingleColumnEvaluator(task, 0.5, \"MCAR\", target_columns[1], VAEImputer, arguments).evaluate(3).report()"
   ]
  },
  {
   "cell_type": "markdown",
   "metadata": {},
   "source": [
    "## GAIN imputation"
   ]
  },
  {
   "cell_type": "code",
   "execution_count": 6,
   "metadata": {},
   "outputs": [
    {
     "name": "stderr",
     "output_type": "stream",
     "text": [
      "\u001b[33m[W 2021-03-17 10:26:39,663]\u001b[0m Trial 0 failed, because the objective function returned nan.\u001b[0m\n",
      "\u001b[33m[W 2021-03-17 10:26:42,063]\u001b[0m Trial 1 failed, because the objective function returned nan.\u001b[0m\n",
      "\u001b[33m[W 2021-03-17 10:26:43,845]\u001b[0m Trial 2 failed, because the objective function returned nan.\u001b[0m\n",
      "\u001b[33m[W 2021-03-17 10:26:45,734]\u001b[0m Trial 3 failed, because the objective function returned nan.\u001b[0m\n",
      "\u001b[33m[W 2021-03-17 10:26:47,416]\u001b[0m Trial 4 failed, because the objective function returned nan.\u001b[0m\n",
      "\u001b[33m[W 2021-03-17 10:26:49,564]\u001b[0m Trial 5 failed, because the objective function returned nan.\u001b[0m\n",
      "\u001b[33m[W 2021-03-17 10:26:51,991]\u001b[0m Trial 0 failed, because the objective function returned nan.\u001b[0m\n",
      "\u001b[33m[W 2021-03-17 10:26:54,363]\u001b[0m Trial 1 failed, because the objective function returned nan.\u001b[0m\n",
      "\u001b[33m[W 2021-03-17 10:26:56,221]\u001b[0m Trial 2 failed, because the objective function returned nan.\u001b[0m\n",
      "\u001b[33m[W 2021-03-17 10:26:58,104]\u001b[0m Trial 3 failed, because the objective function returned nan.\u001b[0m\n",
      "\u001b[33m[W 2021-03-17 10:26:59,970]\u001b[0m Trial 4 failed, because the objective function returned nan.\u001b[0m\n",
      "\u001b[33m[W 2021-03-17 10:27:01,754]\u001b[0m Trial 5 failed, because the objective function returned nan.\u001b[0m\n",
      "\u001b[33m[W 2021-03-17 10:27:03,924]\u001b[0m Trial 0 failed, because the objective function returned nan.\u001b[0m\n",
      "\u001b[33m[W 2021-03-17 10:27:06,403]\u001b[0m Trial 1 failed, because the objective function returned nan.\u001b[0m\n",
      "\u001b[33m[W 2021-03-17 10:27:08,088]\u001b[0m Trial 2 failed, because the objective function returned nan.\u001b[0m\n",
      "\u001b[33m[W 2021-03-17 10:27:09,907]\u001b[0m Trial 3 failed, because the objective function returned nan.\u001b[0m\n",
      "\u001b[33m[W 2021-03-17 10:27:11,699]\u001b[0m Trial 4 failed, because the objective function returned nan.\u001b[0m\n",
      "\u001b[33m[W 2021-03-17 10:27:13,558]\u001b[0m Trial 5 failed, because the objective function returned nan.\u001b[0m\n"
     ]
    },
    {
     "name": "stdout",
     "output_type": "stream",
     "text": [
      "Evaluation result contains 1 target columns: V4\n",
      "All are in a round-robin fashion imputed and performances are as follows:\n",
      "\n",
      "Target Column: V4 - Necessary train time in seconds: 11.9973\n",
      "             train  test\n",
      "F1_micro       NaN   NaN\n",
      "F1_macro       NaN   NaN\n",
      "F1_weighted    NaN   NaN\n",
      "\n",
      "             baseline  corrupted   imputed\n",
      "F1_micro     0.730803   0.705502  0.705502\n",
      "F1_macro     0.478282   0.451989  0.451989\n",
      "F1_weighted  0.728001   0.700695  0.700695\n",
      "\n",
      "\n",
      "CPU times: user 47.6 s, sys: 8.31 s, total: 55.9 s\n",
      "Wall time: 36.7 s\n"
     ]
    }
   ],
   "source": [
    "arguments = {\n",
    "    \"seed\": seed,\n",
    "    \"hyperparameter_grid\": {\n",
    "        \"gain\": {\n",
    "            \"alpha\": [0.1, 1, 10],\n",
    "            \"hint_rate\": [0.7, 0.9],\n",
    "        },\n",
    "        \"generator\": {\n",
    "            \"learning_rate\": [0.01],\n",
    "        },\n",
    "        \"discriminator\": {\n",
    "            \"learning_rate\": [0.001],\n",
    "        }\n",
    "    }\n",
    "}\n",
    "\n",
    "%time SingleColumnEvaluator(task, 0.5, \"MCAR\", target_columns[1], GAINImputer, arguments).evaluate(3).report()"
   ]
  },
  {
   "cell_type": "code",
   "execution_count": null,
   "metadata": {},
   "outputs": [],
   "source": []
  }
 ],
 "metadata": {
  "kernelspec": {
   "display_name": "Python 3",
   "language": "python",
   "name": "python3"
  },
  "language_info": {
   "codemirror_mode": {
    "name": "ipython",
    "version": 3
   },
   "file_extension": ".py",
   "mimetype": "text/x-python",
   "name": "python",
   "nbconvert_exporter": "python",
   "pygments_lexer": "ipython3",
   "version": "3.8.8"
  }
 },
 "nbformat": 4,
 "nbformat_minor": 4
}

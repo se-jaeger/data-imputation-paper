{
 "cells": [
  {
   "cell_type": "code",
   "execution_count": 1,
   "metadata": {},
   "outputs": [],
   "source": [
    "from jenga.tasks.openml import OpenMLBinaryClassificationTask, OpenMLMultiClassClassificationTask, OpenMLRegressionTask\n",
    "from jenga.corruptions.generic import MissingValues\n",
    "    \n",
    "import pandas as pd\n",
    "import numpy as np\n",
    "\n",
    "from data_imputation_paper.imputation.simple import ModeImputer\n",
    "from data_imputation_paper.imputation.ml import KNNImputer, ForestImputer\n",
    "from data_imputation_paper.imputation.dl import AutoKerasImputer\n",
    "from data_imputation_paper.imputation.generative import GAINImputer, VAEImputer\n",
    "from data_imputation_paper.evaluation import Evaluator\n",
    "\n",
    "from tensorflow.compat.v1 import logging as tf_logging"
   ]
  },
  {
   "cell_type": "code",
   "execution_count": 2,
   "metadata": {},
   "outputs": [],
   "source": [
    "tf_logging.set_verbosity(tf_logging.ERROR)"
   ]
  },
  {
   "cell_type": "markdown",
   "metadata": {},
   "source": [
    "## Make Deterministic"
   ]
  },
  {
   "cell_type": "code",
   "execution_count": 3,
   "metadata": {},
   "outputs": [],
   "source": [
    "seed = 42"
   ]
  },
  {
   "cell_type": "markdown",
   "metadata": {},
   "source": [
    "## Create example tasks"
   ]
  },
  {
   "cell_type": "code",
   "execution_count": 4,
   "metadata": {},
   "outputs": [],
   "source": [
    "task = OpenMLMultiClassClassificationTask(openml_id=4552, seed=seed)"
   ]
  },
  {
   "cell_type": "markdown",
   "metadata": {},
   "source": [
    "## Insert missing values using jenga"
   ]
  },
  {
   "cell_type": "code",
   "execution_count": 5,
   "metadata": {},
   "outputs": [],
   "source": [
    "missing_values = [\n",
    "    MissingValues(column='V2', fraction=0.5, na_value=np.nan, missingness='MCAR'),\n",
    "    MissingValues(column='V4', fraction=0.5, na_value=np.nan, missingness='MCAR'),\n",
    "    MissingValues(column='V15', fraction=0.5, na_value=np.nan, missingness='MCAR')\n",
    "]"
   ]
  },
  {
   "cell_type": "markdown",
   "metadata": {},
   "source": [
    "## Mode Imputation"
   ]
  },
  {
   "cell_type": "code",
   "execution_count": 6,
   "metadata": {},
   "outputs": [
    {
     "name": "stdout",
     "output_type": "stream",
     "text": [
      "Evaluation result contains 3 target columns: V2, V4, V15\n",
      "All are in a round-robin fashion imputed and performances are as follows:\n",
      "\n",
      "Target Column: V2\n",
      "            train         test\n",
      "MAE     29.624812    29.482594\n",
      "MSE   1363.309159  1368.946568\n",
      "RMSE    36.922279    36.994064\n",
      "\n",
      "             score metric\n",
      "baseline  0.375149     F1\n",
      "imputed   0.363458     F1\n",
      "\n",
      "\n",
      "Target Column: V4\n",
      "                train      test\n",
      "F1_micro     0.833039  0.851590\n",
      "F1_macro     0.454457  0.459903\n",
      "F1_weighted  0.757165  0.783374\n",
      "\n",
      "             score metric\n",
      "baseline  0.375149     F1\n",
      "imputed   0.351790     F1\n",
      "\n",
      "\n",
      "Target Column: V15\n",
      "                train      test\n",
      "F1_micro     0.110474  0.125442\n",
      "F1_macro     0.012435  0.013919\n",
      "F1_weighted  0.021986  0.028187\n",
      "\n",
      "             score metric\n",
      "baseline  0.375149     F1\n",
      "imputed   0.379695     F1\n",
      "\n",
      "\n",
      "CPU times: user 21.2 s, sys: 360 ms, total: 21.6 s\n",
      "Wall time: 22.7 s\n"
     ]
    }
   ],
   "source": [
    "arguments = {\n",
    "    \"seed\": seed\n",
    "}\n",
    "\n",
    "%time Evaluator(task, missing_values, ModeImputer, arguments).evaluate(3).report()"
   ]
  },
  {
   "cell_type": "markdown",
   "metadata": {},
   "source": [
    "## KNN imputation"
   ]
  },
  {
   "cell_type": "code",
   "execution_count": 7,
   "metadata": {},
   "outputs": [
    {
     "name": "stdout",
     "output_type": "stream",
     "text": [
      "Evaluation result contains 3 target columns: V2, V4, V15\n",
      "All are in a round-robin fashion imputed and performances are as follows:\n",
      "\n",
      "Target Column: V2\n",
      "            train         test\n",
      "MAE     30.291350    29.711896\n",
      "MSE   1442.802407  1407.607303\n",
      "RMSE    37.983067    37.506083\n",
      "\n",
      "             score metric\n",
      "baseline  0.375149     F1\n",
      "imputed   0.353009     F1\n",
      "\n",
      "\n",
      "Target Column: V4\n",
      "                train      test\n",
      "F1_micro     0.934392  0.935807\n",
      "F1_macro     0.877264  0.869435\n",
      "F1_weighted  0.933002  0.934965\n",
      "\n",
      "             score metric\n",
      "baseline  0.375149     F1\n",
      "imputed   0.336378     F1\n",
      "\n",
      "\n",
      "Target Column: V15\n",
      "                train      test\n",
      "F1_micro     0.518682  0.518257\n",
      "F1_macro     0.424199  0.429181\n",
      "F1_weighted  0.513344  0.512861\n",
      "\n",
      "             score metric\n",
      "baseline  0.375149     F1\n",
      "imputed   0.378072     F1\n",
      "\n",
      "\n",
      "CPU times: user 23.1 s, sys: 1.86 s, total: 24.9 s\n",
      "Wall time: 24.3 s\n"
     ]
    }
   ],
   "source": [
    "arguments = {\n",
    "    \"seed\": seed,\n",
    "    \"hyperparameter_grid_categorical_imputer\": {\n",
    "        \"n_neighbors\": [3, 5]\n",
    "    },\n",
    "    \"hyperparameter_grid_numerical_imputer\": {\n",
    "        \"n_neighbors\": [3, 5]\n",
    "    }\n",
    "}\n",
    "\n",
    "%time Evaluator(task, missing_values, KNNImputer, arguments).evaluate(3).report()"
   ]
  },
  {
   "cell_type": "markdown",
   "metadata": {},
   "source": [
    "## Forest imputation"
   ]
  },
  {
   "cell_type": "code",
   "execution_count": 8,
   "metadata": {},
   "outputs": [
    {
     "name": "stdout",
     "output_type": "stream",
     "text": [
      "Evaluation result contains 3 target columns: V2, V4, V15\n",
      "All are in a round-robin fashion imputed and performances are as follows:\n",
      "\n",
      "Target Column: V2\n",
      "            train         test\n",
      "MAE     28.035203    28.014954\n",
      "MSE   1246.471307  1288.985086\n",
      "RMSE    35.304270    35.853690\n",
      "\n",
      "             score metric\n",
      "baseline  0.375149     F1\n",
      "imputed   0.368868     F1\n",
      "\n",
      "\n",
      "Target Column: V4\n",
      "                train      test\n",
      "F1_micro     0.949838  0.957008\n",
      "F1_macro     0.906107  0.918848\n",
      "F1_weighted  0.948601  0.955856\n",
      "\n",
      "             score metric\n",
      "baseline  0.375149     F1\n",
      "imputed   0.370004     F1\n",
      "\n",
      "\n",
      "Target Column: V15\n",
      "                train      test\n",
      "F1_micro     0.563989  0.557715\n",
      "F1_macro     0.496052  0.498791\n",
      "F1_weighted  0.560301  0.554790\n",
      "\n",
      "             score metric\n",
      "baseline  0.375149     F1\n",
      "imputed   0.354385     F1\n",
      "\n",
      "\n",
      "CPU times: user 41.6 s, sys: 879 ms, total: 42.5 s\n",
      "Wall time: 39.6 s\n"
     ]
    }
   ],
   "source": [
    "arguments = {\n",
    "    \"seed\": seed,\n",
    "    \"hyperparameter_grid_categorical_imputer\": {\n",
    "        \"n_estimators\": [50, 100]\n",
    "    },\n",
    "    \"hyperparameter_grid_numerical_imputer\": {\n",
    "        \"n_estimators\": [50, 100]\n",
    "    }\n",
    "}\n",
    "\n",
    "%time Evaluator(task, missing_values, ForestImputer, arguments).evaluate(3).report()"
   ]
  },
  {
   "cell_type": "markdown",
   "metadata": {},
   "source": [
    "## AutoKeras imputation"
   ]
  },
  {
   "cell_type": "code",
   "execution_count": 9,
   "metadata": {},
   "outputs": [
    {
     "name": "stdout",
     "output_type": "stream",
     "text": [
      "Trial 2 Complete [00h 00m 01s]\n",
      "val_accuracy: 0.018099548295140266\n",
      "\n",
      "Best val_accuracy So Far: 0.06334841996431351\n",
      "Total elapsed time: 00h 00m 04s\n",
      "Epoch 1/2\n",
      "71/71 [==============================] - 0s 970us/step - loss: 7.4049 - accuracy: 0.0600\n",
      "Epoch 2/2\n",
      "71/71 [==============================] - 0s 960us/step - loss: 7.0442 - accuracy: 0.0598\n",
      "Evaluation result contains 3 target columns: V2, V4, V15\n",
      "All are in a round-robin fashion imputed and performances are as follows:\n",
      "\n",
      "Target Column: V2\n",
      "            train         test\n",
      "MAE     28.337478    28.169789\n",
      "MSE   1235.516494  1239.920704\n",
      "RMSE    35.139482    35.199894\n",
      "\n",
      "             score metric\n",
      "baseline  0.375149     F1\n",
      "imputed   0.334275     F1\n",
      "\n",
      "\n",
      "Target Column: V4\n",
      "                train      test\n",
      "F1_micro     0.593998  0.617197\n",
      "F1_macro     0.372923  0.392269\n",
      "F1_weighted  0.520305  0.550621\n",
      "\n",
      "             score metric\n",
      "baseline  0.375149     F1\n",
      "imputed   0.347820     F1\n",
      "\n",
      "\n",
      "Target Column: V15\n",
      "                train      test\n",
      "F1_micro     0.123419  0.136042\n",
      "F1_macro     0.047064  0.047856\n",
      "F1_weighted  0.080608  0.086918\n",
      "\n",
      "             score metric\n",
      "baseline  0.375149     F1\n",
      "imputed   0.350456     F1\n",
      "\n",
      "\n",
      "CPU times: user 1min 47s, sys: 4.81 s, total: 1min 52s\n",
      "Wall time: 1min 45s\n"
     ]
    }
   ],
   "source": [
    "arguments = {\n",
    "    \"seed\": seed,\n",
    "    'max_trials': 2,\n",
    "    'tuner': 'greedy',\n",
    "    'validation_split': 0.1,\n",
    "    'epochs': 2\n",
    "}\n",
    "\n",
    "%time Evaluator(task, missing_values, AutoKerasImputer, arguments).evaluate(3).report()"
   ]
  },
  {
   "cell_type": "markdown",
   "metadata": {},
   "source": [
    "## GAIN imputation"
   ]
  },
  {
   "cell_type": "code",
   "execution_count": 10,
   "metadata": {},
   "outputs": [
    {
     "name": "stderr",
     "output_type": "stream",
     "text": [
      "\u001b[33m[W 2021-03-10 14:56:01,320]\u001b[0m Trial 0 failed, because the objective function returned nan.\u001b[0m\n",
      "\u001b[33m[W 2021-03-10 14:59:25,885]\u001b[0m Trial 8 failed, because the objective function returned nan.\u001b[0m\n",
      "\u001b[33m[W 2021-03-10 14:59:55,813]\u001b[0m Trial 23 failed, because the objective function returned nan.\u001b[0m\n",
      "\u001b[33m[W 2021-03-10 15:02:06,940]\u001b[0m Trial 25 failed, because the objective function returned nan.\u001b[0m\n"
     ]
    },
    {
     "name": "stdout",
     "output_type": "stream",
     "text": [
      "Evaluation result contains 3 target columns: V2, V4, V15\n",
      "All are in a round-robin fashion imputed and performances are as follows:\n",
      "\n",
      "Target Column: V2\n",
      "            train         test\n",
      "MAE     30.993606    31.073061\n",
      "MSE   1567.326846  1553.833452\n",
      "RMSE    39.585823    39.411223\n",
      "\n",
      "             score metric\n",
      "baseline  0.375149     F1\n",
      "imputed   0.356433     F1\n",
      "\n",
      "\n",
      "Target Column: V4\n",
      "                train      test\n",
      "F1_micro     0.875993  0.887515\n",
      "F1_macro     0.693090  0.688986\n",
      "F1_weighted  0.847361  0.858961\n",
      "\n",
      "             score metric\n",
      "baseline  0.375149     F1\n",
      "imputed   0.354751     F1\n",
      "\n",
      "\n",
      "Target Column: V15\n",
      "                train      test\n",
      "F1_micro     0.063254  0.059482\n",
      "F1_macro     0.035009  0.030950\n",
      "F1_weighted  0.045970  0.043272\n",
      "\n",
      "             score metric\n",
      "baseline  0.375149     F1\n",
      "imputed   0.356033     F1\n",
      "\n",
      "\n",
      "CPU times: user 12min 40s, sys: 2min 20s, total: 15min\n",
      "Wall time: 9min 33s\n"
     ]
    }
   ],
   "source": [
    "arguments = {\n",
    "    \"seed\": seed,\n",
    "    \"hyperparameter_grid\": {\n",
    "        \"gain\": {\n",
    "            \"alpha\": [80, 120],\n",
    "            \"hint_rate\": [0.5, 0.9],\n",
    "            \"noise\": [0.001, 0.1]\n",
    "        },\n",
    "        \"training\": {\n",
    "            \"batch_size\": [64, 256],\n",
    "            \"epochs\": [5, 15]\n",
    "        }\n",
    "    }\n",
    "}\n",
    "\n",
    "%time Evaluator(task, missing_values, GAINImputer, arguments).evaluate(3).report()"
   ]
  },
  {
   "cell_type": "markdown",
   "metadata": {},
   "source": [
    "## VAE imputation"
   ]
  },
  {
   "cell_type": "code",
   "execution_count": 11,
   "metadata": {},
   "outputs": [
    {
     "name": "stdout",
     "output_type": "stream",
     "text": [
      "Evaluation result contains 3 target columns: V2, V4, V15\n",
      "All are in a round-robin fashion imputed and performances are as follows:\n",
      "\n",
      "Target Column: V2\n",
      "            train         test\n",
      "MAE     35.230799    36.170749\n",
      "MSE   2238.914073  2323.350147\n",
      "RMSE    47.302482    48.165597\n",
      "\n",
      "             score metric\n",
      "baseline  0.375149     F1\n",
      "imputed   0.359628     F1\n",
      "\n",
      "\n",
      "Target Column: V4\n",
      "                train      test\n",
      "F1_micro     0.829214  0.830389\n",
      "F1_macro     0.453314  0.453633\n",
      "F1_weighted  0.751802  0.753511\n",
      "\n",
      "             score metric\n",
      "baseline  0.375149     F1\n",
      "imputed   0.363702     F1\n",
      "\n",
      "\n",
      "Target Column: V15\n",
      "                train      test\n",
      "F1_micro     0.044278  0.045347\n",
      "F1_macro     0.012854  0.012906\n",
      "F1_weighted  0.013700  0.015279\n",
      "\n",
      "             score metric\n",
      "baseline  0.375149     F1\n",
      "imputed   0.358817     F1\n",
      "\n",
      "\n",
      "CPU times: user 2min 27s, sys: 8.77 s, total: 2min 36s\n",
      "Wall time: 2min 7s\n"
     ]
    }
   ],
   "source": [
    "arguments = {\n",
    "    \"seed\": seed,\n",
    "    \"hyperparameter_grid\": {\n",
    "        \"training\": {\n",
    "            \"batch_size\": [64, 256],\n",
    "            \"epochs\": [5, 15]\n",
    "        },\n",
    "        \"optimizer\": {\n",
    "            \"learning_rate\": [0.0005],\n",
    "            \"beta_1\": [0.9],\n",
    "            \"beta_2\": [0.999],\n",
    "            \"epsilon\": [1e-7],\n",
    "            \"amsgrad\": [False]\n",
    "        },\n",
    "        \"neural_architecture\": {\n",
    "            \"latent_dim_rel_size\": [0.1],\n",
    "            \"n_layers\": [1, 2],\n",
    "            \"layer_1_rel_size\": [0.5],\n",
    "            \"layer_2_rel_size\": [0.25],\n",
    "        },\n",
    "    }\n",
    "}\n",
    "\n",
    "%time Evaluator(task, missing_values, VAEImputer, arguments).evaluate(3).report()"
   ]
  },
  {
   "cell_type": "code",
   "execution_count": null,
   "metadata": {},
   "outputs": [],
   "source": []
  }
 ],
 "metadata": {
  "kernelspec": {
   "display_name": "Python 3",
   "language": "python",
   "name": "python3"
  },
  "language_info": {
   "codemirror_mode": {
    "name": "ipython",
    "version": 3
   },
   "file_extension": ".py",
   "mimetype": "text/x-python",
   "name": "python",
   "nbconvert_exporter": "python",
   "pygments_lexer": "ipython3",
   "version": "3.8.8"
  }
 },
 "nbformat": 4,
 "nbformat_minor": 4
}

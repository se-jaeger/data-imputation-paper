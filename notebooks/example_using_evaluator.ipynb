{
 "cells": [
  {
   "cell_type": "code",
   "execution_count": 1,
   "metadata": {},
   "outputs": [],
   "source": [
    "from jenga.tasks.openml import OpenMLTask\n",
    "from jenga.corruptions.generic import MissingValues\n",
    "\n",
    "import pandas as pd\n",
    "import numpy as np\n",
    "\n",
    "from data_imputation_paper.imputation import SKLearnModeImputer\n",
    "from data_imputation_paper.evaluation import Evaluator"
   ]
  },
  {
   "cell_type": "markdown",
   "metadata": {},
   "source": [
    "## Make determenistic"
   ]
  },
  {
   "cell_type": "code",
   "execution_count": 2,
   "metadata": {},
   "outputs": [],
   "source": [
    "np.random.seed(42)"
   ]
  },
  {
   "cell_type": "markdown",
   "metadata": {},
   "source": [
    "## Create example tasks"
   ]
  },
  {
   "cell_type": "code",
   "execution_count": 3,
   "metadata": {},
   "outputs": [
    {
     "name": "stdout",
     "output_type": "stream",
     "text": [
      "Found 5 categorical columns: ['Airline', 'Flight', 'AirportFrom', 'AirportTo', 'DayOfWeek']\n",
      "Found 2 numeric columns: ['Time', 'Length']\n"
     ]
    }
   ],
   "source": [
    "task = OpenMLTask(seed=42, openml_id=42493)\n",
    "\n",
    "if task.contains_missing_values():\n",
    "    raise ValueError(\"This would distort the evaluation because we wouln't have a full ground truth.\")"
   ]
  },
  {
   "cell_type": "markdown",
   "metadata": {},
   "source": [
    "## Insert missing values using jenga"
   ]
  },
  {
   "cell_type": "code",
   "execution_count": 4,
   "metadata": {},
   "outputs": [],
   "source": [
    "numerical_missing = MissingValues(column='Time', fraction=0.5, na_value=np.nan, missingness='MCAR')\n",
    "categorical_missing = MissingValues(column='Flight', fraction=0.5, na_value=np.nan, missingness='MCAR')\n",
    "categorical_as_string_missing = MissingValues(column='Airline', fraction=0.5, na_value=np.nan, missingness='MCAR')"
   ]
  },
  {
   "cell_type": "markdown",
   "metadata": {},
   "source": [
    "## Create Imputer"
   ]
  },
  {
   "cell_type": "code",
   "execution_count": 5,
   "metadata": {},
   "outputs": [],
   "source": [
    "mode_imputer = SKLearnModeImputer()\n",
   ]
  },
  {
   "cell_type": "markdown",
   "metadata": {},
   "source": [
    "## Create Evaluator\n",
    "\n",
    "Evaluators repeadetly:\n",
    "1. insert missing values into the dataset\n",
    "2. fit the imputer\n",
    "3. evauluate the train and test performance of the imputation\n",
    "\n",
    "Then it returns the mean evaluation result."
   ]
  },
  {
   "cell_type": "markdown",
   "metadata": {},
   "source": [
    "## Examples for mode imputation"
   ]
  },
  {
   "cell_type": "code",
   "execution_count": 6,
   "metadata": {},
   "outputs": [],
   "source": [
    "mode_evaluator_numerical = Evaluator(task, numerical_missing, mode_imputer)"
   ]
  },
  {
   "cell_type": "code",
   "execution_count": 7,
   "metadata": {},
   "outputs": [
    {
     "name": "stderr",
     "output_type": "stream",
     "text": [
      "100%|██████████| 10/10 [00:00<00:00, 62.74it/s]\n"
     ]
    },
    {
     "data": {
      "text/html": [
       "<div>\n",
       "<style scoped>\n",
       "    .dataframe tbody tr th:only-of-type {\n",
       "        vertical-align: middle;\n",
       "    }\n",
       "\n",
       "    .dataframe tbody tr th {\n",
       "        vertical-align: top;\n",
       "    }\n",
       "\n",
       "    .dataframe thead th {\n",
       "        text-align: right;\n",
       "    }\n",
       "</style>\n",
       "<table border=\"1\" class=\"dataframe\">\n",
       "  <thead>\n",
       "    <tr style=\"text-align: right;\">\n",
       "      <th></th>\n",
       "      <th>train</th>\n",
       "      <th>test</th>\n",
       "    </tr>\n",
       "  </thead>\n",
       "  <tbody>\n",
       "    <tr>\n",
       "      <th>MAE</th>\n",
       "      <td>119.412143</td>\n",
       "      <td>118.794391</td>\n",
       "    </tr>\n",
       "    <tr>\n",
       "      <th>MSE</th>\n",
       "      <td>38777.628321</td>\n",
       "      <td>38466.406335</td>\n",
       "    </tr>\n",
       "    <tr>\n",
       "      <th>RMSE</th>\n",
       "      <td>196.919901</td>\n",
       "      <td>196.126043</td>\n",
       "    </tr>\n",
       "  </tbody>\n",
       "</table>\n",
       "</div>"
      ],
      "text/plain": [
       "             train          test\n",
       "MAE     119.412143    118.794391\n",
       "MSE   38777.628321  38466.406335\n",
       "RMSE    196.919901    196.126043"
      ]
     },
     "execution_count": 7,
     "metadata": {},
     "output_type": "execute_result"
    }
   ],
   "source": [
    "mode_evaluator_numerical.evaluate(10).result"
   ]
  },
  {
   "cell_type": "code",
   "execution_count": 8,
   "metadata": {},
   "outputs": [],
   "source": [
    "mode_evaluator_categorical = Evaluator(task, categorical_missing, mode_imputer)"
   ]
  },
  {
   "cell_type": "code",
   "execution_count": 9,
   "metadata": {},
   "outputs": [
    {
     "name": "stderr",
     "output_type": "stream",
     "text": [
      "100%|██████████| 10/10 [00:10<00:00,  1.01s/it]\n"
     ]
    },
    {
     "data": {
      "text/html": [
       "<div>\n",
       "<style scoped>\n",
       "    .dataframe tbody tr th:only-of-type {\n",
       "        vertical-align: middle;\n",
       "    }\n",
       "\n",
       "    .dataframe tbody tr th {\n",
       "        vertical-align: top;\n",
       "    }\n",
       "\n",
       "    .dataframe thead th {\n",
       "        text-align: right;\n",
       "    }\n",
       "</style>\n",
       "<table border=\"1\" class=\"dataframe\">\n",
       "  <thead>\n",
       "    <tr style=\"text-align: right;\">\n",
       "      <th></th>\n",
       "      <th>train</th>\n",
       "      <th>test</th>\n",
       "    </tr>\n",
       "  </thead>\n",
       "  <tbody>\n",
       "    <tr>\n",
       "      <th>F1_micro</th>\n",
       "      <td>0.500547</td>\n",
       "      <td>0.500723</td>\n",
       "    </tr>\n",
       "    <tr>\n",
       "      <th>F1_macro</th>\n",
       "      <td>0.593860</td>\n",
       "      <td>0.540455</td>\n",
       "    </tr>\n",
       "    <tr>\n",
       "      <th>F1_weighted</th>\n",
       "      <td>0.623951</td>\n",
       "      <td>0.567040</td>\n",
       "    </tr>\n",
       "  </tbody>\n",
       "</table>\n",
       "</div>"
      ],
      "text/plain": [
       "                train      test\n",
       "F1_micro     0.500547  0.500723\n",
       "F1_macro     0.593860  0.540455\n",
       "F1_weighted  0.623951  0.567040"
      ]
     },
     "execution_count": 9,
     "metadata": {},
     "output_type": "execute_result"
    }
   ],
   "source": [
    "mode_evaluator_categorical.evaluate(10).result"
   ]
  },
  {
   "cell_type": "code",
   "execution_count": 10,
   "metadata": {},
   "outputs": [],
   "source": [
    "mode_evaluator_cat_as_string = Evaluator(task, categorical_as_string_missing, mode_imputer)"
   ]
  },
  {
   "cell_type": "code",
   "execution_count": 11,
   "metadata": {},
   "outputs": [
    {
     "name": "stderr",
     "output_type": "stream",
     "text": [
      "100%|██████████| 10/10 [00:05<00:00,  1.78it/s]\n"
     ]
    },
    {
     "data": {
      "text/html": [
       "<div>\n",
       "<style scoped>\n",
       "    .dataframe tbody tr th:only-of-type {\n",
       "        vertical-align: middle;\n",
       "    }\n",
       "\n",
       "    .dataframe tbody tr th {\n",
       "        vertical-align: top;\n",
       "    }\n",
       "\n",
       "    .dataframe thead th {\n",
       "        text-align: right;\n",
       "    }\n",
       "</style>\n",
       "<table border=\"1\" class=\"dataframe\">\n",
       "  <thead>\n",
       "    <tr style=\"text-align: right;\">\n",
       "      <th></th>\n",
       "      <th>train</th>\n",
       "      <th>test</th>\n",
       "    </tr>\n",
       "  </thead>\n",
       "  <tbody>\n",
       "    <tr>\n",
       "      <th>F1_micro</th>\n",
       "      <td>0.586776</td>\n",
       "      <td>0.584001</td>\n",
       "    </tr>\n",
       "    <tr>\n",
       "      <th>F1_macro</th>\n",
       "      <td>0.653294</td>\n",
       "      <td>0.654991</td>\n",
       "    </tr>\n",
       "    <tr>\n",
       "      <th>F1_weighted</th>\n",
       "      <td>0.629959</td>\n",
       "      <td>0.629921</td>\n",
       "    </tr>\n",
       "  </tbody>\n",
       "</table>\n",
       "</div>"
      ],
      "text/plain": [
       "                train      test\n",
       "F1_micro     0.586776  0.584001\n",
       "F1_macro     0.653294  0.654991\n",
       "F1_weighted  0.629959  0.629921"
      ]
     },
     "execution_count": 11,
     "metadata": {},
     "output_type": "execute_result"
    }
   ],
   "source": [
    "categorical_result.result"
   ]
  }
 ],
 "metadata": {
  "kernelspec": {
   "display_name": "Python 3",
   "language": "python",
   "name": "python3"
  },
  "language_info": {
   "codemirror_mode": {
    "name": "ipython",
    "version": 3
   },
   "file_extension": ".py",
   "mimetype": "text/x-python",
   "name": "python",
   "nbconvert_exporter": "python",
   "pygments_lexer": "ipython3",
   "version": "3.8.5"
  }
 },
 "nbformat": 4,
 "nbformat_minor": 4
}

{
 "cells": [
  {
   "cell_type": "code",
   "execution_count": 1,
   "id": "rental-prairie",
   "metadata": {},
   "outputs": [],
   "source": [
    "import glob\n",
    "import json\n",
    "\n",
    "import pandas as pd\n",
    "\n",
    "from pathlib import Path\n",
    "\n",
    "from data_imputation_paper.experiment import _recursive_split"
   ]
  },
  {
   "cell_type": "code",
   "execution_count": 2,
   "id": "related-dragon",
   "metadata": {},
   "outputs": [],
   "source": [
    "glob_a = str(Path(f\"../data/experiments/fully_observed\") / \"**\" / \"single_all\" / \"elapsed_train_time_*.json\")\n",
    "glob_b = str(Path(f\"../data/experiments/corrupted\") / \"**\" / \"single_all\" / \"elapsed_train_time_*.json\")\n",
    "training_time_files = [*glob.glob(glob_a, recursive=True), *glob.glob(glob_b, recursive=True)]"
   ]
  },
  {
   "cell_type": "code",
   "execution_count": 3,
   "id": "lesser-poison",
   "metadata": {},
   "outputs": [],
   "source": [
    "column_names = [\"imputer\", \"task\", \"type\", \"fraction\"]\n",
    "\n",
    "dfs = []\n",
    "\n",
    "for path in training_time_files:\n",
    "    df = pd.read_json(path, orient=\"index\").T.reset_index(drop=True)\n",
    "    df[column_names] = _recursive_split(path)[4:-2]\n",
    "    dfs.append(df)\n",
    "\n",
    "training_time_all = pd.concat(dfs)"
   ]
  },
  {
   "cell_type": "code",
   "execution_count": 33,
   "id": "cleared-convertible",
   "metadata": {},
   "outputs": [],
   "source": [
    "training_time = training_time_all.drop(\"std\", axis=1)\n",
    "training_time = training_time.rename(columns={\"mean\": \"training_time\"})\n",
    "training_time = training_time.replace({\n",
    "    \"ModeImputer\": \"Mean/Mode\",\n",
    "    \"KNNImputer\": \"$k$-NN\",\n",
    "    \"ForestImputer\": \"Random Forest\",\n",
    "    \"AutoKerasImputer\": \"Discriminate DL\",\n",
    "    \"VAEImputer\": \"VAE\",\n",
    "    \"GAINImputer\": \"GAIN\"    \n",
    "})"
   ]
  },
  {
   "cell_type": "code",
   "execution_count": 133,
   "id": "informed-vatican",
   "metadata": {},
   "outputs": [],
   "source": [
    "# First calculate mean and relative std for each imputer and task\n",
    "training_time_grouped = training_time.groupby([\"imputer\", \"task\"]).agg([\"mean\", \"std\"])\n",
    "training_time_grouped.columns = [\"mean\", \"std\"]\n",
    "training_time_grouped[\"rel std\"] = training_time_grouped.loc[:, \"std\"] /  training_time_grouped.loc[:, \"mean\"]\n",
    "\n",
    "# Then average over all data sets. This leads to relativ sd that is less dependant on the data set size.\n",
    "training_time_grouped = training_time_grouped.groupby(\"imputer\").agg([\"mean\", \"std\"])\n",
    "training_time_grouped = training_time_grouped.loc[:, [(\"mean\", \"mean\"), (\"rel std\", \"mean\")]]"
   ]
  },
  {
   "cell_type": "code",
   "execution_count": 134,
   "id": "handmade-ukraine",
   "metadata": {},
   "outputs": [
    {
     "data": {
      "text/html": [
       "<div>\n",
       "<style scoped>\n",
       "    .dataframe tbody tr th:only-of-type {\n",
       "        vertical-align: middle;\n",
       "    }\n",
       "\n",
       "    .dataframe tbody tr th {\n",
       "        vertical-align: top;\n",
       "    }\n",
       "\n",
       "    .dataframe thead th {\n",
       "        text-align: right;\n",
       "    }\n",
       "</style>\n",
       "<table border=\"1\" class=\"dataframe\">\n",
       "  <thead>\n",
       "    <tr style=\"text-align: right;\">\n",
       "      <th></th>\n",
       "      <th>Imputation Method</th>\n",
       "      <th>Training Time</th>\n",
       "      <th>Relative Standard Deviation</th>\n",
       "    </tr>\n",
       "  </thead>\n",
       "  <tbody>\n",
       "    <tr>\n",
       "      <th>0</th>\n",
       "      <td>Mean/Mode</td>\n",
       "      <td>0.005009</td>\n",
       "      <td>0.656056</td>\n",
       "    </tr>\n",
       "    <tr>\n",
       "      <th>1</th>\n",
       "      <td>$k$-NN</td>\n",
       "      <td>40.961577</td>\n",
       "      <td>0.243020</td>\n",
       "    </tr>\n",
       "    <tr>\n",
       "      <th>2</th>\n",
       "      <td>Random Forest</td>\n",
       "      <td>225.513999</td>\n",
       "      <td>0.118707</td>\n",
       "    </tr>\n",
       "    <tr>\n",
       "      <th>3</th>\n",
       "      <td>Discriminate DL</td>\n",
       "      <td>6285.017741</td>\n",
       "      <td>0.424011</td>\n",
       "    </tr>\n",
       "    <tr>\n",
       "      <th>4</th>\n",
       "      <td>VAE</td>\n",
       "      <td>71.685278</td>\n",
       "      <td>0.107189</td>\n",
       "    </tr>\n",
       "    <tr>\n",
       "      <th>5</th>\n",
       "      <td>GAIN</td>\n",
       "      <td>874.657293</td>\n",
       "      <td>0.299608</td>\n",
       "    </tr>\n",
       "  </tbody>\n",
       "</table>\n",
       "</div>"
      ],
      "text/plain": [
       "  Imputation Method  Training Time  Relative Standard Deviation\n",
       "0         Mean/Mode       0.005009                     0.656056\n",
       "1            $k$-NN      40.961577                     0.243020\n",
       "2     Random Forest     225.513999                     0.118707\n",
       "3   Discriminate DL    6285.017741                     0.424011\n",
       "4               VAE      71.685278                     0.107189\n",
       "5              GAIN     874.657293                     0.299608"
      ]
     },
     "execution_count": 134,
     "metadata": {},
     "output_type": "execute_result"
    }
   ],
   "source": [
    "table_latex = training_time_grouped.loc[[\"Mean/Mode\", \"$k$-NN\", \"Random Forest\", \"Discriminate DL\", \"VAE\", \"GAIN\"],:].reset_index()\n",
    "table_latex.columns = [\"Imputation Method\", \"Training Time\", \"Relative Standard Deviation\"]\n",
    "table_latex"
   ]
  },
  {
   "cell_type": "code",
   "execution_count": 137,
   "id": "considered-thinking",
   "metadata": {},
   "outputs": [
    {
     "name": "stdout",
     "output_type": "stream",
     "text": [
      "\\begin{table}\n",
      "\\centering\n",
      "\\caption{Training time for each imputation method in seconds. Training time is the mean overall experimental settings, experiments, and scenarios. The data set's size skews the standard deviation heavily, which is why we first compute the relative standard deviation for each imputation method on each data set separately and then average over the data sets.}\n",
      "\\label{tab:training_time}\n",
      "\\begin{tabular}{lrr}\n",
      "\\toprule\n",
      "Imputation Method &  Training Time &  Relative Standard Deviation \\\\\n",
      "\\midrule\n",
      "        Mean/Mode &       0.005009 &                     0.656056 \\\\\n",
      "           $k$-NN &      40.961577 &                     0.243020 \\\\\n",
      "    Random Forest &     225.513999 &                     0.118707 \\\\\n",
      "  Discriminate DL &    6285.017741 &                     0.424011 \\\\\n",
      "              VAE &      71.685278 &                     0.107189 \\\\\n",
      "             GAIN &     874.657293 &                     0.299608 \\\\\n",
      "\\bottomrule\n",
      "\\end{tabular}\n",
      "\\end{table}\n",
      "\n"
     ]
    }
   ],
   "source": [
    "print(\n",
    "    table_latex.to_latex(\n",
    "        caption=\"Training time for each imputation method in seconds. Training time is the mean overall experimental settings, experiments, and scenarios. The data set's size skews the standard deviation heavily, which is why we first compute the relative standard deviation for each imputation method on each data set separately and then average over the data sets.\",\n",
    "        label=\"tab:training_time\",\n",
    "        index=False,\n",
    "        escape=False\n",
    "    )\n",
    ")"
   ]
  },
  {
   "cell_type": "code",
   "execution_count": null,
   "id": "funny-feedback",
   "metadata": {},
   "outputs": [],
   "source": []
  }
 ],
 "metadata": {
  "kernelspec": {
   "display_name": "Python 3",
   "language": "python",
   "name": "python3"
  },
  "language_info": {
   "codemirror_mode": {
    "name": "ipython",
    "version": 3
   },
   "file_extension": ".py",
   "mimetype": "text/x-python",
   "name": "python",
   "nbconvert_exporter": "python",
   "pygments_lexer": "ipython3",
   "version": "3.8.8"
  }
 },
 "nbformat": 4,
 "nbformat_minor": 5
}
